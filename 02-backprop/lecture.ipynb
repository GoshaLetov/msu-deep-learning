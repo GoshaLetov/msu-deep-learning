{
  "nbformat": 4,
  "nbformat_minor": 0,
  "metadata": {
    "colab": {
      "provenance": []
    },
    "kernelspec": {
      "name": "python3",
      "display_name": "Python 3"
    },
    "language_info": {
      "name": "python"
    },
    "widgets": {
      "application/vnd.jupyter.widget-state+json": {
        "8a1e73b621b941b2a49ad4cb520771a8": {
          "model_module": "@jupyter-widgets/controls",
          "model_name": "HBoxModel",
          "model_module_version": "1.5.0",
          "state": {
            "_dom_classes": [],
            "_model_module": "@jupyter-widgets/controls",
            "_model_module_version": "1.5.0",
            "_model_name": "HBoxModel",
            "_view_count": null,
            "_view_module": "@jupyter-widgets/controls",
            "_view_module_version": "1.5.0",
            "_view_name": "HBoxView",
            "box_style": "",
            "children": [
              "IPY_MODEL_071d7cd8d8b44002827fa97d85d89dfb",
              "IPY_MODEL_f36ed96d60014c0988fe39e56f9f98b1",
              "IPY_MODEL_b9870f20b6d547f396912e7e0c59c441"
            ],
            "layout": "IPY_MODEL_2e96daede3524ac89ecb3bbe5966c1df"
          }
        },
        "071d7cd8d8b44002827fa97d85d89dfb": {
          "model_module": "@jupyter-widgets/controls",
          "model_name": "HTMLModel",
          "model_module_version": "1.5.0",
          "state": {
            "_dom_classes": [],
            "_model_module": "@jupyter-widgets/controls",
            "_model_module_version": "1.5.0",
            "_model_name": "HTMLModel",
            "_view_count": null,
            "_view_module": "@jupyter-widgets/controls",
            "_view_module_version": "1.5.0",
            "_view_name": "HTMLView",
            "description": "",
            "description_tooltip": null,
            "layout": "IPY_MODEL_8448666f598c4c24a4d2b902d6ac2244",
            "placeholder": "​",
            "style": "IPY_MODEL_b7bd68d57660460cb1ca7d001ceaba67",
            "value": "100%"
          }
        },
        "f36ed96d60014c0988fe39e56f9f98b1": {
          "model_module": "@jupyter-widgets/controls",
          "model_name": "FloatProgressModel",
          "model_module_version": "1.5.0",
          "state": {
            "_dom_classes": [],
            "_model_module": "@jupyter-widgets/controls",
            "_model_module_version": "1.5.0",
            "_model_name": "FloatProgressModel",
            "_view_count": null,
            "_view_module": "@jupyter-widgets/controls",
            "_view_module_version": "1.5.0",
            "_view_name": "ProgressView",
            "bar_style": "success",
            "description": "",
            "description_tooltip": null,
            "layout": "IPY_MODEL_aa4feb9ef050412f9a2aa0160e835282",
            "max": 50,
            "min": 0,
            "orientation": "horizontal",
            "style": "IPY_MODEL_1454869847ae4ea28254aaf48abf00d1",
            "value": 50
          }
        },
        "b9870f20b6d547f396912e7e0c59c441": {
          "model_module": "@jupyter-widgets/controls",
          "model_name": "HTMLModel",
          "model_module_version": "1.5.0",
          "state": {
            "_dom_classes": [],
            "_model_module": "@jupyter-widgets/controls",
            "_model_module_version": "1.5.0",
            "_model_name": "HTMLModel",
            "_view_count": null,
            "_view_module": "@jupyter-widgets/controls",
            "_view_module_version": "1.5.0",
            "_view_name": "HTMLView",
            "description": "",
            "description_tooltip": null,
            "layout": "IPY_MODEL_f5749412a29247079bb71de537adb55d",
            "placeholder": "​",
            "style": "IPY_MODEL_cc0bf4fde1ad420fa60c56715a534ad5",
            "value": " 50/50 [01:23&lt;00:00,  2.15s/it]"
          }
        },
        "2e96daede3524ac89ecb3bbe5966c1df": {
          "model_module": "@jupyter-widgets/base",
          "model_name": "LayoutModel",
          "model_module_version": "1.2.0",
          "state": {
            "_model_module": "@jupyter-widgets/base",
            "_model_module_version": "1.2.0",
            "_model_name": "LayoutModel",
            "_view_count": null,
            "_view_module": "@jupyter-widgets/base",
            "_view_module_version": "1.2.0",
            "_view_name": "LayoutView",
            "align_content": null,
            "align_items": null,
            "align_self": null,
            "border": null,
            "bottom": null,
            "display": null,
            "flex": null,
            "flex_flow": null,
            "grid_area": null,
            "grid_auto_columns": null,
            "grid_auto_flow": null,
            "grid_auto_rows": null,
            "grid_column": null,
            "grid_gap": null,
            "grid_row": null,
            "grid_template_areas": null,
            "grid_template_columns": null,
            "grid_template_rows": null,
            "height": null,
            "justify_content": null,
            "justify_items": null,
            "left": null,
            "margin": null,
            "max_height": null,
            "max_width": null,
            "min_height": null,
            "min_width": null,
            "object_fit": null,
            "object_position": null,
            "order": null,
            "overflow": null,
            "overflow_x": null,
            "overflow_y": null,
            "padding": null,
            "right": null,
            "top": null,
            "visibility": null,
            "width": null
          }
        },
        "8448666f598c4c24a4d2b902d6ac2244": {
          "model_module": "@jupyter-widgets/base",
          "model_name": "LayoutModel",
          "model_module_version": "1.2.0",
          "state": {
            "_model_module": "@jupyter-widgets/base",
            "_model_module_version": "1.2.0",
            "_model_name": "LayoutModel",
            "_view_count": null,
            "_view_module": "@jupyter-widgets/base",
            "_view_module_version": "1.2.0",
            "_view_name": "LayoutView",
            "align_content": null,
            "align_items": null,
            "align_self": null,
            "border": null,
            "bottom": null,
            "display": null,
            "flex": null,
            "flex_flow": null,
            "grid_area": null,
            "grid_auto_columns": null,
            "grid_auto_flow": null,
            "grid_auto_rows": null,
            "grid_column": null,
            "grid_gap": null,
            "grid_row": null,
            "grid_template_areas": null,
            "grid_template_columns": null,
            "grid_template_rows": null,
            "height": null,
            "justify_content": null,
            "justify_items": null,
            "left": null,
            "margin": null,
            "max_height": null,
            "max_width": null,
            "min_height": null,
            "min_width": null,
            "object_fit": null,
            "object_position": null,
            "order": null,
            "overflow": null,
            "overflow_x": null,
            "overflow_y": null,
            "padding": null,
            "right": null,
            "top": null,
            "visibility": null,
            "width": null
          }
        },
        "b7bd68d57660460cb1ca7d001ceaba67": {
          "model_module": "@jupyter-widgets/controls",
          "model_name": "DescriptionStyleModel",
          "model_module_version": "1.5.0",
          "state": {
            "_model_module": "@jupyter-widgets/controls",
            "_model_module_version": "1.5.0",
            "_model_name": "DescriptionStyleModel",
            "_view_count": null,
            "_view_module": "@jupyter-widgets/base",
            "_view_module_version": "1.2.0",
            "_view_name": "StyleView",
            "description_width": ""
          }
        },
        "aa4feb9ef050412f9a2aa0160e835282": {
          "model_module": "@jupyter-widgets/base",
          "model_name": "LayoutModel",
          "model_module_version": "1.2.0",
          "state": {
            "_model_module": "@jupyter-widgets/base",
            "_model_module_version": "1.2.0",
            "_model_name": "LayoutModel",
            "_view_count": null,
            "_view_module": "@jupyter-widgets/base",
            "_view_module_version": "1.2.0",
            "_view_name": "LayoutView",
            "align_content": null,
            "align_items": null,
            "align_self": null,
            "border": null,
            "bottom": null,
            "display": null,
            "flex": null,
            "flex_flow": null,
            "grid_area": null,
            "grid_auto_columns": null,
            "grid_auto_flow": null,
            "grid_auto_rows": null,
            "grid_column": null,
            "grid_gap": null,
            "grid_row": null,
            "grid_template_areas": null,
            "grid_template_columns": null,
            "grid_template_rows": null,
            "height": null,
            "justify_content": null,
            "justify_items": null,
            "left": null,
            "margin": null,
            "max_height": null,
            "max_width": null,
            "min_height": null,
            "min_width": null,
            "object_fit": null,
            "object_position": null,
            "order": null,
            "overflow": null,
            "overflow_x": null,
            "overflow_y": null,
            "padding": null,
            "right": null,
            "top": null,
            "visibility": null,
            "width": null
          }
        },
        "1454869847ae4ea28254aaf48abf00d1": {
          "model_module": "@jupyter-widgets/controls",
          "model_name": "ProgressStyleModel",
          "model_module_version": "1.5.0",
          "state": {
            "_model_module": "@jupyter-widgets/controls",
            "_model_module_version": "1.5.0",
            "_model_name": "ProgressStyleModel",
            "_view_count": null,
            "_view_module": "@jupyter-widgets/base",
            "_view_module_version": "1.2.0",
            "_view_name": "StyleView",
            "bar_color": null,
            "description_width": ""
          }
        },
        "f5749412a29247079bb71de537adb55d": {
          "model_module": "@jupyter-widgets/base",
          "model_name": "LayoutModel",
          "model_module_version": "1.2.0",
          "state": {
            "_model_module": "@jupyter-widgets/base",
            "_model_module_version": "1.2.0",
            "_model_name": "LayoutModel",
            "_view_count": null,
            "_view_module": "@jupyter-widgets/base",
            "_view_module_version": "1.2.0",
            "_view_name": "LayoutView",
            "align_content": null,
            "align_items": null,
            "align_self": null,
            "border": null,
            "bottom": null,
            "display": null,
            "flex": null,
            "flex_flow": null,
            "grid_area": null,
            "grid_auto_columns": null,
            "grid_auto_flow": null,
            "grid_auto_rows": null,
            "grid_column": null,
            "grid_gap": null,
            "grid_row": null,
            "grid_template_areas": null,
            "grid_template_columns": null,
            "grid_template_rows": null,
            "height": null,
            "justify_content": null,
            "justify_items": null,
            "left": null,
            "margin": null,
            "max_height": null,
            "max_width": null,
            "min_height": null,
            "min_width": null,
            "object_fit": null,
            "object_position": null,
            "order": null,
            "overflow": null,
            "overflow_x": null,
            "overflow_y": null,
            "padding": null,
            "right": null,
            "top": null,
            "visibility": null,
            "width": null
          }
        },
        "cc0bf4fde1ad420fa60c56715a534ad5": {
          "model_module": "@jupyter-widgets/controls",
          "model_name": "DescriptionStyleModel",
          "model_module_version": "1.5.0",
          "state": {
            "_model_module": "@jupyter-widgets/controls",
            "_model_module_version": "1.5.0",
            "_model_name": "DescriptionStyleModel",
            "_view_count": null,
            "_view_module": "@jupyter-widgets/base",
            "_view_module_version": "1.2.0",
            "_view_name": "StyleView",
            "description_width": ""
          }
        },
        "434b8e5e9f514d08b82ee50e829a43dc": {
          "model_module": "@jupyter-widgets/controls",
          "model_name": "HBoxModel",
          "model_module_version": "1.5.0",
          "state": {
            "_dom_classes": [],
            "_model_module": "@jupyter-widgets/controls",
            "_model_module_version": "1.5.0",
            "_model_name": "HBoxModel",
            "_view_count": null,
            "_view_module": "@jupyter-widgets/controls",
            "_view_module_version": "1.5.0",
            "_view_name": "HBoxView",
            "box_style": "",
            "children": [
              "IPY_MODEL_457572e9822a4b5b98da40f3273d93c6",
              "IPY_MODEL_00693beb9b6e483289f6fcb2eecec996",
              "IPY_MODEL_000dc8dc8a4147a88f75d5ce5799a0f3"
            ],
            "layout": "IPY_MODEL_4f842a3459ca426d8f4029eae10c0c8b"
          }
        },
        "457572e9822a4b5b98da40f3273d93c6": {
          "model_module": "@jupyter-widgets/controls",
          "model_name": "HTMLModel",
          "model_module_version": "1.5.0",
          "state": {
            "_dom_classes": [],
            "_model_module": "@jupyter-widgets/controls",
            "_model_module_version": "1.5.0",
            "_model_name": "HTMLModel",
            "_view_count": null,
            "_view_module": "@jupyter-widgets/controls",
            "_view_module_version": "1.5.0",
            "_view_name": "HTMLView",
            "description": "",
            "description_tooltip": null,
            "layout": "IPY_MODEL_23a9e8a19ab0453bad2c7a01528a2a9b",
            "placeholder": "​",
            "style": "IPY_MODEL_e7a813e57a4b461d9db932b5f5a9872b",
            "value": "100%"
          }
        },
        "00693beb9b6e483289f6fcb2eecec996": {
          "model_module": "@jupyter-widgets/controls",
          "model_name": "FloatProgressModel",
          "model_module_version": "1.5.0",
          "state": {
            "_dom_classes": [],
            "_model_module": "@jupyter-widgets/controls",
            "_model_module_version": "1.5.0",
            "_model_name": "FloatProgressModel",
            "_view_count": null,
            "_view_module": "@jupyter-widgets/controls",
            "_view_module_version": "1.5.0",
            "_view_name": "ProgressView",
            "bar_style": "success",
            "description": "",
            "description_tooltip": null,
            "layout": "IPY_MODEL_4b7e7819658d4f28939f13d37dd2bf26",
            "max": 100,
            "min": 0,
            "orientation": "horizontal",
            "style": "IPY_MODEL_7830cb64dd8e4562981f1777c704af6c",
            "value": 100
          }
        },
        "000dc8dc8a4147a88f75d5ce5799a0f3": {
          "model_module": "@jupyter-widgets/controls",
          "model_name": "HTMLModel",
          "model_module_version": "1.5.0",
          "state": {
            "_dom_classes": [],
            "_model_module": "@jupyter-widgets/controls",
            "_model_module_version": "1.5.0",
            "_model_name": "HTMLModel",
            "_view_count": null,
            "_view_module": "@jupyter-widgets/controls",
            "_view_module_version": "1.5.0",
            "_view_name": "HTMLView",
            "description": "",
            "description_tooltip": null,
            "layout": "IPY_MODEL_85ffe6e0fa4f429fa42488f8a64f2466",
            "placeholder": "​",
            "style": "IPY_MODEL_a02c49440d5145859a57cfd2c7f0871c",
            "value": " 100/100 [01:29&lt;00:00,  1.22it/s]"
          }
        },
        "4f842a3459ca426d8f4029eae10c0c8b": {
          "model_module": "@jupyter-widgets/base",
          "model_name": "LayoutModel",
          "model_module_version": "1.2.0",
          "state": {
            "_model_module": "@jupyter-widgets/base",
            "_model_module_version": "1.2.0",
            "_model_name": "LayoutModel",
            "_view_count": null,
            "_view_module": "@jupyter-widgets/base",
            "_view_module_version": "1.2.0",
            "_view_name": "LayoutView",
            "align_content": null,
            "align_items": null,
            "align_self": null,
            "border": null,
            "bottom": null,
            "display": null,
            "flex": null,
            "flex_flow": null,
            "grid_area": null,
            "grid_auto_columns": null,
            "grid_auto_flow": null,
            "grid_auto_rows": null,
            "grid_column": null,
            "grid_gap": null,
            "grid_row": null,
            "grid_template_areas": null,
            "grid_template_columns": null,
            "grid_template_rows": null,
            "height": null,
            "justify_content": null,
            "justify_items": null,
            "left": null,
            "margin": null,
            "max_height": null,
            "max_width": null,
            "min_height": null,
            "min_width": null,
            "object_fit": null,
            "object_position": null,
            "order": null,
            "overflow": null,
            "overflow_x": null,
            "overflow_y": null,
            "padding": null,
            "right": null,
            "top": null,
            "visibility": null,
            "width": null
          }
        },
        "23a9e8a19ab0453bad2c7a01528a2a9b": {
          "model_module": "@jupyter-widgets/base",
          "model_name": "LayoutModel",
          "model_module_version": "1.2.0",
          "state": {
            "_model_module": "@jupyter-widgets/base",
            "_model_module_version": "1.2.0",
            "_model_name": "LayoutModel",
            "_view_count": null,
            "_view_module": "@jupyter-widgets/base",
            "_view_module_version": "1.2.0",
            "_view_name": "LayoutView",
            "align_content": null,
            "align_items": null,
            "align_self": null,
            "border": null,
            "bottom": null,
            "display": null,
            "flex": null,
            "flex_flow": null,
            "grid_area": null,
            "grid_auto_columns": null,
            "grid_auto_flow": null,
            "grid_auto_rows": null,
            "grid_column": null,
            "grid_gap": null,
            "grid_row": null,
            "grid_template_areas": null,
            "grid_template_columns": null,
            "grid_template_rows": null,
            "height": null,
            "justify_content": null,
            "justify_items": null,
            "left": null,
            "margin": null,
            "max_height": null,
            "max_width": null,
            "min_height": null,
            "min_width": null,
            "object_fit": null,
            "object_position": null,
            "order": null,
            "overflow": null,
            "overflow_x": null,
            "overflow_y": null,
            "padding": null,
            "right": null,
            "top": null,
            "visibility": null,
            "width": null
          }
        },
        "e7a813e57a4b461d9db932b5f5a9872b": {
          "model_module": "@jupyter-widgets/controls",
          "model_name": "DescriptionStyleModel",
          "model_module_version": "1.5.0",
          "state": {
            "_model_module": "@jupyter-widgets/controls",
            "_model_module_version": "1.5.0",
            "_model_name": "DescriptionStyleModel",
            "_view_count": null,
            "_view_module": "@jupyter-widgets/base",
            "_view_module_version": "1.2.0",
            "_view_name": "StyleView",
            "description_width": ""
          }
        },
        "4b7e7819658d4f28939f13d37dd2bf26": {
          "model_module": "@jupyter-widgets/base",
          "model_name": "LayoutModel",
          "model_module_version": "1.2.0",
          "state": {
            "_model_module": "@jupyter-widgets/base",
            "_model_module_version": "1.2.0",
            "_model_name": "LayoutModel",
            "_view_count": null,
            "_view_module": "@jupyter-widgets/base",
            "_view_module_version": "1.2.0",
            "_view_name": "LayoutView",
            "align_content": null,
            "align_items": null,
            "align_self": null,
            "border": null,
            "bottom": null,
            "display": null,
            "flex": null,
            "flex_flow": null,
            "grid_area": null,
            "grid_auto_columns": null,
            "grid_auto_flow": null,
            "grid_auto_rows": null,
            "grid_column": null,
            "grid_gap": null,
            "grid_row": null,
            "grid_template_areas": null,
            "grid_template_columns": null,
            "grid_template_rows": null,
            "height": null,
            "justify_content": null,
            "justify_items": null,
            "left": null,
            "margin": null,
            "max_height": null,
            "max_width": null,
            "min_height": null,
            "min_width": null,
            "object_fit": null,
            "object_position": null,
            "order": null,
            "overflow": null,
            "overflow_x": null,
            "overflow_y": null,
            "padding": null,
            "right": null,
            "top": null,
            "visibility": null,
            "width": null
          }
        },
        "7830cb64dd8e4562981f1777c704af6c": {
          "model_module": "@jupyter-widgets/controls",
          "model_name": "ProgressStyleModel",
          "model_module_version": "1.5.0",
          "state": {
            "_model_module": "@jupyter-widgets/controls",
            "_model_module_version": "1.5.0",
            "_model_name": "ProgressStyleModel",
            "_view_count": null,
            "_view_module": "@jupyter-widgets/base",
            "_view_module_version": "1.2.0",
            "_view_name": "StyleView",
            "bar_color": null,
            "description_width": ""
          }
        },
        "85ffe6e0fa4f429fa42488f8a64f2466": {
          "model_module": "@jupyter-widgets/base",
          "model_name": "LayoutModel",
          "model_module_version": "1.2.0",
          "state": {
            "_model_module": "@jupyter-widgets/base",
            "_model_module_version": "1.2.0",
            "_model_name": "LayoutModel",
            "_view_count": null,
            "_view_module": "@jupyter-widgets/base",
            "_view_module_version": "1.2.0",
            "_view_name": "LayoutView",
            "align_content": null,
            "align_items": null,
            "align_self": null,
            "border": null,
            "bottom": null,
            "display": null,
            "flex": null,
            "flex_flow": null,
            "grid_area": null,
            "grid_auto_columns": null,
            "grid_auto_flow": null,
            "grid_auto_rows": null,
            "grid_column": null,
            "grid_gap": null,
            "grid_row": null,
            "grid_template_areas": null,
            "grid_template_columns": null,
            "grid_template_rows": null,
            "height": null,
            "justify_content": null,
            "justify_items": null,
            "left": null,
            "margin": null,
            "max_height": null,
            "max_width": null,
            "min_height": null,
            "min_width": null,
            "object_fit": null,
            "object_position": null,
            "order": null,
            "overflow": null,
            "overflow_x": null,
            "overflow_y": null,
            "padding": null,
            "right": null,
            "top": null,
            "visibility": null,
            "width": null
          }
        },
        "a02c49440d5145859a57cfd2c7f0871c": {
          "model_module": "@jupyter-widgets/controls",
          "model_name": "DescriptionStyleModel",
          "model_module_version": "1.5.0",
          "state": {
            "_model_module": "@jupyter-widgets/controls",
            "_model_module_version": "1.5.0",
            "_model_name": "DescriptionStyleModel",
            "_view_count": null,
            "_view_module": "@jupyter-widgets/base",
            "_view_module_version": "1.2.0",
            "_view_name": "StyleView",
            "description_width": ""
          }
        },
        "6c093b0ae7904ab3b4504681fd4ca820": {
          "model_module": "@jupyter-widgets/controls",
          "model_name": "HBoxModel",
          "model_module_version": "1.5.0",
          "state": {
            "_dom_classes": [],
            "_model_module": "@jupyter-widgets/controls",
            "_model_module_version": "1.5.0",
            "_model_name": "HBoxModel",
            "_view_count": null,
            "_view_module": "@jupyter-widgets/controls",
            "_view_module_version": "1.5.0",
            "_view_name": "HBoxView",
            "box_style": "",
            "children": [
              "IPY_MODEL_7af99d68585d4e4880d027f97f994dc4",
              "IPY_MODEL_89e3e51cb3df46b5a793237326e76234",
              "IPY_MODEL_48249a4a349846fb8e968bdb6eabf628"
            ],
            "layout": "IPY_MODEL_4b9994b5ac7648018e0bda02f4413ed1"
          }
        },
        "7af99d68585d4e4880d027f97f994dc4": {
          "model_module": "@jupyter-widgets/controls",
          "model_name": "HTMLModel",
          "model_module_version": "1.5.0",
          "state": {
            "_dom_classes": [],
            "_model_module": "@jupyter-widgets/controls",
            "_model_module_version": "1.5.0",
            "_model_name": "HTMLModel",
            "_view_count": null,
            "_view_module": "@jupyter-widgets/controls",
            "_view_module_version": "1.5.0",
            "_view_name": "HTMLView",
            "description": "",
            "description_tooltip": null,
            "layout": "IPY_MODEL_5e1928b16e1b4a4f9e1621e11dc61a5d",
            "placeholder": "​",
            "style": "IPY_MODEL_a94b68e6abd64c8191846ed9dabc606b",
            "value": "100%"
          }
        },
        "89e3e51cb3df46b5a793237326e76234": {
          "model_module": "@jupyter-widgets/controls",
          "model_name": "FloatProgressModel",
          "model_module_version": "1.5.0",
          "state": {
            "_dom_classes": [],
            "_model_module": "@jupyter-widgets/controls",
            "_model_module_version": "1.5.0",
            "_model_name": "FloatProgressModel",
            "_view_count": null,
            "_view_module": "@jupyter-widgets/controls",
            "_view_module_version": "1.5.0",
            "_view_name": "ProgressView",
            "bar_style": "success",
            "description": "",
            "description_tooltip": null,
            "layout": "IPY_MODEL_b59ed05c5f0245fa936fb6f8551b0fd0",
            "max": 5,
            "min": 0,
            "orientation": "horizontal",
            "style": "IPY_MODEL_a40c7852ab634ed6ba170396c4099e37",
            "value": 5
          }
        },
        "48249a4a349846fb8e968bdb6eabf628": {
          "model_module": "@jupyter-widgets/controls",
          "model_name": "HTMLModel",
          "model_module_version": "1.5.0",
          "state": {
            "_dom_classes": [],
            "_model_module": "@jupyter-widgets/controls",
            "_model_module_version": "1.5.0",
            "_model_name": "HTMLModel",
            "_view_count": null,
            "_view_module": "@jupyter-widgets/controls",
            "_view_module_version": "1.5.0",
            "_view_name": "HTMLView",
            "description": "",
            "description_tooltip": null,
            "layout": "IPY_MODEL_adfe61829a8848b2886581bb37cf91c5",
            "placeholder": "​",
            "style": "IPY_MODEL_5ac33a0caca9488ca07dd8411c0ec20d",
            "value": " 5/5 [00:06&lt;00:00,  1.41s/it]"
          }
        },
        "4b9994b5ac7648018e0bda02f4413ed1": {
          "model_module": "@jupyter-widgets/base",
          "model_name": "LayoutModel",
          "model_module_version": "1.2.0",
          "state": {
            "_model_module": "@jupyter-widgets/base",
            "_model_module_version": "1.2.0",
            "_model_name": "LayoutModel",
            "_view_count": null,
            "_view_module": "@jupyter-widgets/base",
            "_view_module_version": "1.2.0",
            "_view_name": "LayoutView",
            "align_content": null,
            "align_items": null,
            "align_self": null,
            "border": null,
            "bottom": null,
            "display": null,
            "flex": null,
            "flex_flow": null,
            "grid_area": null,
            "grid_auto_columns": null,
            "grid_auto_flow": null,
            "grid_auto_rows": null,
            "grid_column": null,
            "grid_gap": null,
            "grid_row": null,
            "grid_template_areas": null,
            "grid_template_columns": null,
            "grid_template_rows": null,
            "height": null,
            "justify_content": null,
            "justify_items": null,
            "left": null,
            "margin": null,
            "max_height": null,
            "max_width": null,
            "min_height": null,
            "min_width": null,
            "object_fit": null,
            "object_position": null,
            "order": null,
            "overflow": null,
            "overflow_x": null,
            "overflow_y": null,
            "padding": null,
            "right": null,
            "top": null,
            "visibility": null,
            "width": null
          }
        },
        "5e1928b16e1b4a4f9e1621e11dc61a5d": {
          "model_module": "@jupyter-widgets/base",
          "model_name": "LayoutModel",
          "model_module_version": "1.2.0",
          "state": {
            "_model_module": "@jupyter-widgets/base",
            "_model_module_version": "1.2.0",
            "_model_name": "LayoutModel",
            "_view_count": null,
            "_view_module": "@jupyter-widgets/base",
            "_view_module_version": "1.2.0",
            "_view_name": "LayoutView",
            "align_content": null,
            "align_items": null,
            "align_self": null,
            "border": null,
            "bottom": null,
            "display": null,
            "flex": null,
            "flex_flow": null,
            "grid_area": null,
            "grid_auto_columns": null,
            "grid_auto_flow": null,
            "grid_auto_rows": null,
            "grid_column": null,
            "grid_gap": null,
            "grid_row": null,
            "grid_template_areas": null,
            "grid_template_columns": null,
            "grid_template_rows": null,
            "height": null,
            "justify_content": null,
            "justify_items": null,
            "left": null,
            "margin": null,
            "max_height": null,
            "max_width": null,
            "min_height": null,
            "min_width": null,
            "object_fit": null,
            "object_position": null,
            "order": null,
            "overflow": null,
            "overflow_x": null,
            "overflow_y": null,
            "padding": null,
            "right": null,
            "top": null,
            "visibility": null,
            "width": null
          }
        },
        "a94b68e6abd64c8191846ed9dabc606b": {
          "model_module": "@jupyter-widgets/controls",
          "model_name": "DescriptionStyleModel",
          "model_module_version": "1.5.0",
          "state": {
            "_model_module": "@jupyter-widgets/controls",
            "_model_module_version": "1.5.0",
            "_model_name": "DescriptionStyleModel",
            "_view_count": null,
            "_view_module": "@jupyter-widgets/base",
            "_view_module_version": "1.2.0",
            "_view_name": "StyleView",
            "description_width": ""
          }
        },
        "b59ed05c5f0245fa936fb6f8551b0fd0": {
          "model_module": "@jupyter-widgets/base",
          "model_name": "LayoutModel",
          "model_module_version": "1.2.0",
          "state": {
            "_model_module": "@jupyter-widgets/base",
            "_model_module_version": "1.2.0",
            "_model_name": "LayoutModel",
            "_view_count": null,
            "_view_module": "@jupyter-widgets/base",
            "_view_module_version": "1.2.0",
            "_view_name": "LayoutView",
            "align_content": null,
            "align_items": null,
            "align_self": null,
            "border": null,
            "bottom": null,
            "display": null,
            "flex": null,
            "flex_flow": null,
            "grid_area": null,
            "grid_auto_columns": null,
            "grid_auto_flow": null,
            "grid_auto_rows": null,
            "grid_column": null,
            "grid_gap": null,
            "grid_row": null,
            "grid_template_areas": null,
            "grid_template_columns": null,
            "grid_template_rows": null,
            "height": null,
            "justify_content": null,
            "justify_items": null,
            "left": null,
            "margin": null,
            "max_height": null,
            "max_width": null,
            "min_height": null,
            "min_width": null,
            "object_fit": null,
            "object_position": null,
            "order": null,
            "overflow": null,
            "overflow_x": null,
            "overflow_y": null,
            "padding": null,
            "right": null,
            "top": null,
            "visibility": null,
            "width": null
          }
        },
        "a40c7852ab634ed6ba170396c4099e37": {
          "model_module": "@jupyter-widgets/controls",
          "model_name": "ProgressStyleModel",
          "model_module_version": "1.5.0",
          "state": {
            "_model_module": "@jupyter-widgets/controls",
            "_model_module_version": "1.5.0",
            "_model_name": "ProgressStyleModel",
            "_view_count": null,
            "_view_module": "@jupyter-widgets/base",
            "_view_module_version": "1.2.0",
            "_view_name": "StyleView",
            "bar_color": null,
            "description_width": ""
          }
        },
        "adfe61829a8848b2886581bb37cf91c5": {
          "model_module": "@jupyter-widgets/base",
          "model_name": "LayoutModel",
          "model_module_version": "1.2.0",
          "state": {
            "_model_module": "@jupyter-widgets/base",
            "_model_module_version": "1.2.0",
            "_model_name": "LayoutModel",
            "_view_count": null,
            "_view_module": "@jupyter-widgets/base",
            "_view_module_version": "1.2.0",
            "_view_name": "LayoutView",
            "align_content": null,
            "align_items": null,
            "align_self": null,
            "border": null,
            "bottom": null,
            "display": null,
            "flex": null,
            "flex_flow": null,
            "grid_area": null,
            "grid_auto_columns": null,
            "grid_auto_flow": null,
            "grid_auto_rows": null,
            "grid_column": null,
            "grid_gap": null,
            "grid_row": null,
            "grid_template_areas": null,
            "grid_template_columns": null,
            "grid_template_rows": null,
            "height": null,
            "justify_content": null,
            "justify_items": null,
            "left": null,
            "margin": null,
            "max_height": null,
            "max_width": null,
            "min_height": null,
            "min_width": null,
            "object_fit": null,
            "object_position": null,
            "order": null,
            "overflow": null,
            "overflow_x": null,
            "overflow_y": null,
            "padding": null,
            "right": null,
            "top": null,
            "visibility": null,
            "width": null
          }
        },
        "5ac33a0caca9488ca07dd8411c0ec20d": {
          "model_module": "@jupyter-widgets/controls",
          "model_name": "DescriptionStyleModel",
          "model_module_version": "1.5.0",
          "state": {
            "_model_module": "@jupyter-widgets/controls",
            "_model_module_version": "1.5.0",
            "_model_name": "DescriptionStyleModel",
            "_view_count": null,
            "_view_module": "@jupyter-widgets/base",
            "_view_module_version": "1.2.0",
            "_view_name": "StyleView",
            "description_width": ""
          }
        },
        "55ed70a9a6a544fdae30eab9871b8e4a": {
          "model_module": "@jupyter-widgets/controls",
          "model_name": "HBoxModel",
          "model_module_version": "1.5.0",
          "state": {
            "_dom_classes": [],
            "_model_module": "@jupyter-widgets/controls",
            "_model_module_version": "1.5.0",
            "_model_name": "HBoxModel",
            "_view_count": null,
            "_view_module": "@jupyter-widgets/controls",
            "_view_module_version": "1.5.0",
            "_view_name": "HBoxView",
            "box_style": "",
            "children": [
              "IPY_MODEL_2374ef3e61ac440da0b45b9638b5750e",
              "IPY_MODEL_da8dfa2e292b4981bbf1115b41c71605",
              "IPY_MODEL_88b93ea4832b4fa0b4bdee1954c3c2ef"
            ],
            "layout": "IPY_MODEL_4e2a7f354a0d42a2ad366dbd3683fdd8"
          }
        },
        "2374ef3e61ac440da0b45b9638b5750e": {
          "model_module": "@jupyter-widgets/controls",
          "model_name": "HTMLModel",
          "model_module_version": "1.5.0",
          "state": {
            "_dom_classes": [],
            "_model_module": "@jupyter-widgets/controls",
            "_model_module_version": "1.5.0",
            "_model_name": "HTMLModel",
            "_view_count": null,
            "_view_module": "@jupyter-widgets/controls",
            "_view_module_version": "1.5.0",
            "_view_name": "HTMLView",
            "description": "",
            "description_tooltip": null,
            "layout": "IPY_MODEL_46675d15315c4f35bdc54c3bc352d463",
            "placeholder": "​",
            "style": "IPY_MODEL_bb54fab5f3354a02aed64faa8e351836",
            "value": "100%"
          }
        },
        "da8dfa2e292b4981bbf1115b41c71605": {
          "model_module": "@jupyter-widgets/controls",
          "model_name": "FloatProgressModel",
          "model_module_version": "1.5.0",
          "state": {
            "_dom_classes": [],
            "_model_module": "@jupyter-widgets/controls",
            "_model_module_version": "1.5.0",
            "_model_name": "FloatProgressModel",
            "_view_count": null,
            "_view_module": "@jupyter-widgets/controls",
            "_view_module_version": "1.5.0",
            "_view_name": "ProgressView",
            "bar_style": "success",
            "description": "",
            "description_tooltip": null,
            "layout": "IPY_MODEL_32696e2c84b74a77a7039b7657c89634",
            "max": 15,
            "min": 0,
            "orientation": "horizontal",
            "style": "IPY_MODEL_90652bf4de4e4fe1a64db81c6fd8fe1e",
            "value": 15
          }
        },
        "88b93ea4832b4fa0b4bdee1954c3c2ef": {
          "model_module": "@jupyter-widgets/controls",
          "model_name": "HTMLModel",
          "model_module_version": "1.5.0",
          "state": {
            "_dom_classes": [],
            "_model_module": "@jupyter-widgets/controls",
            "_model_module_version": "1.5.0",
            "_model_name": "HTMLModel",
            "_view_count": null,
            "_view_module": "@jupyter-widgets/controls",
            "_view_module_version": "1.5.0",
            "_view_name": "HTMLView",
            "description": "",
            "description_tooltip": null,
            "layout": "IPY_MODEL_a2f6f8ecbf074b2ab96f374cd76048f6",
            "placeholder": "​",
            "style": "IPY_MODEL_ce219aa963cf487a94a3ae967f3360ea",
            "value": " 15/15 [00:13&lt;00:00,  1.21it/s]"
          }
        },
        "4e2a7f354a0d42a2ad366dbd3683fdd8": {
          "model_module": "@jupyter-widgets/base",
          "model_name": "LayoutModel",
          "model_module_version": "1.2.0",
          "state": {
            "_model_module": "@jupyter-widgets/base",
            "_model_module_version": "1.2.0",
            "_model_name": "LayoutModel",
            "_view_count": null,
            "_view_module": "@jupyter-widgets/base",
            "_view_module_version": "1.2.0",
            "_view_name": "LayoutView",
            "align_content": null,
            "align_items": null,
            "align_self": null,
            "border": null,
            "bottom": null,
            "display": null,
            "flex": null,
            "flex_flow": null,
            "grid_area": null,
            "grid_auto_columns": null,
            "grid_auto_flow": null,
            "grid_auto_rows": null,
            "grid_column": null,
            "grid_gap": null,
            "grid_row": null,
            "grid_template_areas": null,
            "grid_template_columns": null,
            "grid_template_rows": null,
            "height": null,
            "justify_content": null,
            "justify_items": null,
            "left": null,
            "margin": null,
            "max_height": null,
            "max_width": null,
            "min_height": null,
            "min_width": null,
            "object_fit": null,
            "object_position": null,
            "order": null,
            "overflow": null,
            "overflow_x": null,
            "overflow_y": null,
            "padding": null,
            "right": null,
            "top": null,
            "visibility": null,
            "width": null
          }
        },
        "46675d15315c4f35bdc54c3bc352d463": {
          "model_module": "@jupyter-widgets/base",
          "model_name": "LayoutModel",
          "model_module_version": "1.2.0",
          "state": {
            "_model_module": "@jupyter-widgets/base",
            "_model_module_version": "1.2.0",
            "_model_name": "LayoutModel",
            "_view_count": null,
            "_view_module": "@jupyter-widgets/base",
            "_view_module_version": "1.2.0",
            "_view_name": "LayoutView",
            "align_content": null,
            "align_items": null,
            "align_self": null,
            "border": null,
            "bottom": null,
            "display": null,
            "flex": null,
            "flex_flow": null,
            "grid_area": null,
            "grid_auto_columns": null,
            "grid_auto_flow": null,
            "grid_auto_rows": null,
            "grid_column": null,
            "grid_gap": null,
            "grid_row": null,
            "grid_template_areas": null,
            "grid_template_columns": null,
            "grid_template_rows": null,
            "height": null,
            "justify_content": null,
            "justify_items": null,
            "left": null,
            "margin": null,
            "max_height": null,
            "max_width": null,
            "min_height": null,
            "min_width": null,
            "object_fit": null,
            "object_position": null,
            "order": null,
            "overflow": null,
            "overflow_x": null,
            "overflow_y": null,
            "padding": null,
            "right": null,
            "top": null,
            "visibility": null,
            "width": null
          }
        },
        "bb54fab5f3354a02aed64faa8e351836": {
          "model_module": "@jupyter-widgets/controls",
          "model_name": "DescriptionStyleModel",
          "model_module_version": "1.5.0",
          "state": {
            "_model_module": "@jupyter-widgets/controls",
            "_model_module_version": "1.5.0",
            "_model_name": "DescriptionStyleModel",
            "_view_count": null,
            "_view_module": "@jupyter-widgets/base",
            "_view_module_version": "1.2.0",
            "_view_name": "StyleView",
            "description_width": ""
          }
        },
        "32696e2c84b74a77a7039b7657c89634": {
          "model_module": "@jupyter-widgets/base",
          "model_name": "LayoutModel",
          "model_module_version": "1.2.0",
          "state": {
            "_model_module": "@jupyter-widgets/base",
            "_model_module_version": "1.2.0",
            "_model_name": "LayoutModel",
            "_view_count": null,
            "_view_module": "@jupyter-widgets/base",
            "_view_module_version": "1.2.0",
            "_view_name": "LayoutView",
            "align_content": null,
            "align_items": null,
            "align_self": null,
            "border": null,
            "bottom": null,
            "display": null,
            "flex": null,
            "flex_flow": null,
            "grid_area": null,
            "grid_auto_columns": null,
            "grid_auto_flow": null,
            "grid_auto_rows": null,
            "grid_column": null,
            "grid_gap": null,
            "grid_row": null,
            "grid_template_areas": null,
            "grid_template_columns": null,
            "grid_template_rows": null,
            "height": null,
            "justify_content": null,
            "justify_items": null,
            "left": null,
            "margin": null,
            "max_height": null,
            "max_width": null,
            "min_height": null,
            "min_width": null,
            "object_fit": null,
            "object_position": null,
            "order": null,
            "overflow": null,
            "overflow_x": null,
            "overflow_y": null,
            "padding": null,
            "right": null,
            "top": null,
            "visibility": null,
            "width": null
          }
        },
        "90652bf4de4e4fe1a64db81c6fd8fe1e": {
          "model_module": "@jupyter-widgets/controls",
          "model_name": "ProgressStyleModel",
          "model_module_version": "1.5.0",
          "state": {
            "_model_module": "@jupyter-widgets/controls",
            "_model_module_version": "1.5.0",
            "_model_name": "ProgressStyleModel",
            "_view_count": null,
            "_view_module": "@jupyter-widgets/base",
            "_view_module_version": "1.2.0",
            "_view_name": "StyleView",
            "bar_color": null,
            "description_width": ""
          }
        },
        "a2f6f8ecbf074b2ab96f374cd76048f6": {
          "model_module": "@jupyter-widgets/base",
          "model_name": "LayoutModel",
          "model_module_version": "1.2.0",
          "state": {
            "_model_module": "@jupyter-widgets/base",
            "_model_module_version": "1.2.0",
            "_model_name": "LayoutModel",
            "_view_count": null,
            "_view_module": "@jupyter-widgets/base",
            "_view_module_version": "1.2.0",
            "_view_name": "LayoutView",
            "align_content": null,
            "align_items": null,
            "align_self": null,
            "border": null,
            "bottom": null,
            "display": null,
            "flex": null,
            "flex_flow": null,
            "grid_area": null,
            "grid_auto_columns": null,
            "grid_auto_flow": null,
            "grid_auto_rows": null,
            "grid_column": null,
            "grid_gap": null,
            "grid_row": null,
            "grid_template_areas": null,
            "grid_template_columns": null,
            "grid_template_rows": null,
            "height": null,
            "justify_content": null,
            "justify_items": null,
            "left": null,
            "margin": null,
            "max_height": null,
            "max_width": null,
            "min_height": null,
            "min_width": null,
            "object_fit": null,
            "object_position": null,
            "order": null,
            "overflow": null,
            "overflow_x": null,
            "overflow_y": null,
            "padding": null,
            "right": null,
            "top": null,
            "visibility": null,
            "width": null
          }
        },
        "ce219aa963cf487a94a3ae967f3360ea": {
          "model_module": "@jupyter-widgets/controls",
          "model_name": "DescriptionStyleModel",
          "model_module_version": "1.5.0",
          "state": {
            "_model_module": "@jupyter-widgets/controls",
            "_model_module_version": "1.5.0",
            "_model_name": "DescriptionStyleModel",
            "_view_count": null,
            "_view_module": "@jupyter-widgets/base",
            "_view_module_version": "1.2.0",
            "_view_name": "StyleView",
            "description_width": ""
          }
        },
        "45fd8296d36d4c9892cdf45fd08db4c6": {
          "model_module": "@jupyter-widgets/controls",
          "model_name": "HBoxModel",
          "model_module_version": "1.5.0",
          "state": {
            "_dom_classes": [],
            "_model_module": "@jupyter-widgets/controls",
            "_model_module_version": "1.5.0",
            "_model_name": "HBoxModel",
            "_view_count": null,
            "_view_module": "@jupyter-widgets/controls",
            "_view_module_version": "1.5.0",
            "_view_name": "HBoxView",
            "box_style": "",
            "children": [
              "IPY_MODEL_9967295f380d4e58aef42bb748967a32",
              "IPY_MODEL_c9b246a9fc78454288cd799c4678f81c",
              "IPY_MODEL_1b2566daa1234fc7a1fa1f49f47c1fd6"
            ],
            "layout": "IPY_MODEL_e53318bc9b9546d7a20bf8c805d4dc88"
          }
        },
        "9967295f380d4e58aef42bb748967a32": {
          "model_module": "@jupyter-widgets/controls",
          "model_name": "HTMLModel",
          "model_module_version": "1.5.0",
          "state": {
            "_dom_classes": [],
            "_model_module": "@jupyter-widgets/controls",
            "_model_module_version": "1.5.0",
            "_model_name": "HTMLModel",
            "_view_count": null,
            "_view_module": "@jupyter-widgets/controls",
            "_view_module_version": "1.5.0",
            "_view_name": "HTMLView",
            "description": "",
            "description_tooltip": null,
            "layout": "IPY_MODEL_4787da6ee5574644957d2b5aeb1cb128",
            "placeholder": "​",
            "style": "IPY_MODEL_e4ab9a5bba1f48158a1213dc73fd4d64",
            "value": "100%"
          }
        },
        "c9b246a9fc78454288cd799c4678f81c": {
          "model_module": "@jupyter-widgets/controls",
          "model_name": "FloatProgressModel",
          "model_module_version": "1.5.0",
          "state": {
            "_dom_classes": [],
            "_model_module": "@jupyter-widgets/controls",
            "_model_module_version": "1.5.0",
            "_model_name": "FloatProgressModel",
            "_view_count": null,
            "_view_module": "@jupyter-widgets/controls",
            "_view_module_version": "1.5.0",
            "_view_name": "ProgressView",
            "bar_style": "success",
            "description": "",
            "description_tooltip": null,
            "layout": "IPY_MODEL_562c8e3d857945d3b7423a5d5ebc16df",
            "max": 25,
            "min": 0,
            "orientation": "horizontal",
            "style": "IPY_MODEL_e31389f85e5646638876e6dc9dbc5f3c",
            "value": 25
          }
        },
        "1b2566daa1234fc7a1fa1f49f47c1fd6": {
          "model_module": "@jupyter-widgets/controls",
          "model_name": "HTMLModel",
          "model_module_version": "1.5.0",
          "state": {
            "_dom_classes": [],
            "_model_module": "@jupyter-widgets/controls",
            "_model_module_version": "1.5.0",
            "_model_name": "HTMLModel",
            "_view_count": null,
            "_view_module": "@jupyter-widgets/controls",
            "_view_module_version": "1.5.0",
            "_view_name": "HTMLView",
            "description": "",
            "description_tooltip": null,
            "layout": "IPY_MODEL_6d223feaeaf5439890177466943c597e",
            "placeholder": "​",
            "style": "IPY_MODEL_995149e98526450fb25c732eea3b8a08",
            "value": " 25/25 [00:22&lt;00:00,  1.18it/s]"
          }
        },
        "e53318bc9b9546d7a20bf8c805d4dc88": {
          "model_module": "@jupyter-widgets/base",
          "model_name": "LayoutModel",
          "model_module_version": "1.2.0",
          "state": {
            "_model_module": "@jupyter-widgets/base",
            "_model_module_version": "1.2.0",
            "_model_name": "LayoutModel",
            "_view_count": null,
            "_view_module": "@jupyter-widgets/base",
            "_view_module_version": "1.2.0",
            "_view_name": "LayoutView",
            "align_content": null,
            "align_items": null,
            "align_self": null,
            "border": null,
            "bottom": null,
            "display": null,
            "flex": null,
            "flex_flow": null,
            "grid_area": null,
            "grid_auto_columns": null,
            "grid_auto_flow": null,
            "grid_auto_rows": null,
            "grid_column": null,
            "grid_gap": null,
            "grid_row": null,
            "grid_template_areas": null,
            "grid_template_columns": null,
            "grid_template_rows": null,
            "height": null,
            "justify_content": null,
            "justify_items": null,
            "left": null,
            "margin": null,
            "max_height": null,
            "max_width": null,
            "min_height": null,
            "min_width": null,
            "object_fit": null,
            "object_position": null,
            "order": null,
            "overflow": null,
            "overflow_x": null,
            "overflow_y": null,
            "padding": null,
            "right": null,
            "top": null,
            "visibility": null,
            "width": null
          }
        },
        "4787da6ee5574644957d2b5aeb1cb128": {
          "model_module": "@jupyter-widgets/base",
          "model_name": "LayoutModel",
          "model_module_version": "1.2.0",
          "state": {
            "_model_module": "@jupyter-widgets/base",
            "_model_module_version": "1.2.0",
            "_model_name": "LayoutModel",
            "_view_count": null,
            "_view_module": "@jupyter-widgets/base",
            "_view_module_version": "1.2.0",
            "_view_name": "LayoutView",
            "align_content": null,
            "align_items": null,
            "align_self": null,
            "border": null,
            "bottom": null,
            "display": null,
            "flex": null,
            "flex_flow": null,
            "grid_area": null,
            "grid_auto_columns": null,
            "grid_auto_flow": null,
            "grid_auto_rows": null,
            "grid_column": null,
            "grid_gap": null,
            "grid_row": null,
            "grid_template_areas": null,
            "grid_template_columns": null,
            "grid_template_rows": null,
            "height": null,
            "justify_content": null,
            "justify_items": null,
            "left": null,
            "margin": null,
            "max_height": null,
            "max_width": null,
            "min_height": null,
            "min_width": null,
            "object_fit": null,
            "object_position": null,
            "order": null,
            "overflow": null,
            "overflow_x": null,
            "overflow_y": null,
            "padding": null,
            "right": null,
            "top": null,
            "visibility": null,
            "width": null
          }
        },
        "e4ab9a5bba1f48158a1213dc73fd4d64": {
          "model_module": "@jupyter-widgets/controls",
          "model_name": "DescriptionStyleModel",
          "model_module_version": "1.5.0",
          "state": {
            "_model_module": "@jupyter-widgets/controls",
            "_model_module_version": "1.5.0",
            "_model_name": "DescriptionStyleModel",
            "_view_count": null,
            "_view_module": "@jupyter-widgets/base",
            "_view_module_version": "1.2.0",
            "_view_name": "StyleView",
            "description_width": ""
          }
        },
        "562c8e3d857945d3b7423a5d5ebc16df": {
          "model_module": "@jupyter-widgets/base",
          "model_name": "LayoutModel",
          "model_module_version": "1.2.0",
          "state": {
            "_model_module": "@jupyter-widgets/base",
            "_model_module_version": "1.2.0",
            "_model_name": "LayoutModel",
            "_view_count": null,
            "_view_module": "@jupyter-widgets/base",
            "_view_module_version": "1.2.0",
            "_view_name": "LayoutView",
            "align_content": null,
            "align_items": null,
            "align_self": null,
            "border": null,
            "bottom": null,
            "display": null,
            "flex": null,
            "flex_flow": null,
            "grid_area": null,
            "grid_auto_columns": null,
            "grid_auto_flow": null,
            "grid_auto_rows": null,
            "grid_column": null,
            "grid_gap": null,
            "grid_row": null,
            "grid_template_areas": null,
            "grid_template_columns": null,
            "grid_template_rows": null,
            "height": null,
            "justify_content": null,
            "justify_items": null,
            "left": null,
            "margin": null,
            "max_height": null,
            "max_width": null,
            "min_height": null,
            "min_width": null,
            "object_fit": null,
            "object_position": null,
            "order": null,
            "overflow": null,
            "overflow_x": null,
            "overflow_y": null,
            "padding": null,
            "right": null,
            "top": null,
            "visibility": null,
            "width": null
          }
        },
        "e31389f85e5646638876e6dc9dbc5f3c": {
          "model_module": "@jupyter-widgets/controls",
          "model_name": "ProgressStyleModel",
          "model_module_version": "1.5.0",
          "state": {
            "_model_module": "@jupyter-widgets/controls",
            "_model_module_version": "1.5.0",
            "_model_name": "ProgressStyleModel",
            "_view_count": null,
            "_view_module": "@jupyter-widgets/base",
            "_view_module_version": "1.2.0",
            "_view_name": "StyleView",
            "bar_color": null,
            "description_width": ""
          }
        },
        "6d223feaeaf5439890177466943c597e": {
          "model_module": "@jupyter-widgets/base",
          "model_name": "LayoutModel",
          "model_module_version": "1.2.0",
          "state": {
            "_model_module": "@jupyter-widgets/base",
            "_model_module_version": "1.2.0",
            "_model_name": "LayoutModel",
            "_view_count": null,
            "_view_module": "@jupyter-widgets/base",
            "_view_module_version": "1.2.0",
            "_view_name": "LayoutView",
            "align_content": null,
            "align_items": null,
            "align_self": null,
            "border": null,
            "bottom": null,
            "display": null,
            "flex": null,
            "flex_flow": null,
            "grid_area": null,
            "grid_auto_columns": null,
            "grid_auto_flow": null,
            "grid_auto_rows": null,
            "grid_column": null,
            "grid_gap": null,
            "grid_row": null,
            "grid_template_areas": null,
            "grid_template_columns": null,
            "grid_template_rows": null,
            "height": null,
            "justify_content": null,
            "justify_items": null,
            "left": null,
            "margin": null,
            "max_height": null,
            "max_width": null,
            "min_height": null,
            "min_width": null,
            "object_fit": null,
            "object_position": null,
            "order": null,
            "overflow": null,
            "overflow_x": null,
            "overflow_y": null,
            "padding": null,
            "right": null,
            "top": null,
            "visibility": null,
            "width": null
          }
        },
        "995149e98526450fb25c732eea3b8a08": {
          "model_module": "@jupyter-widgets/controls",
          "model_name": "DescriptionStyleModel",
          "model_module_version": "1.5.0",
          "state": {
            "_model_module": "@jupyter-widgets/controls",
            "_model_module_version": "1.5.0",
            "_model_name": "DescriptionStyleModel",
            "_view_count": null,
            "_view_module": "@jupyter-widgets/base",
            "_view_module_version": "1.2.0",
            "_view_name": "StyleView",
            "description_width": ""
          }
        }
      }
    },
    "gpuClass": "standard"
  },
  "cells": [
    {
      "cell_type": "markdown",
      "source": [
        "# Pytorch\n",
        "\n",
        "*Автор: Сергей Артамонов*\n",
        "\n",
        "Pytorch - очень мощный инструмент разработки в области нейронных сетей и глубинного обучения. Этот фреймворк совмещает в себе ряд важных инструментов и методов, которые можно применять для конструирования практически любой архитектуры на основе известных блоков, эффективно работать с данными и проводить вычисления на gpu, производить автоматическое дифференцирование и обновление весов моделей при помощи различных оптимизаторов. У Pytorch отличная документация, позволяющая разобраться самостоятельно даже в довольно сложных структурах. Сегодня мы обсудим этот фреймворк и научимся использовать его для построения и обучения нейронных сетей.\n",
        "\n",
        "\n"
      ],
      "metadata": {
        "id": "azFuwISeFfxp"
      }
    },
    {
      "cell_type": "markdown",
      "source": [
        "## torch.Tensor\n",
        "\n",
        "Базовой структурой фреймворка является структура, которая называется `torch.Tensor`. Tensor - это аналог `numpy.array`, многие методы работы с `torch.Tensor` в точности повторяют методы `numpy array`.\n",
        "\n",
        "Импортируем библиотеку и рассмотрим типичные способы создания тензоров."
      ],
      "metadata": {
        "id": "ftAAFt2DGM7j"
      }
    },
    {
      "cell_type": "code",
      "source": [
        "import torch\n",
        "import warnings\n",
        "warnings.filterwarnings('ignore')"
      ],
      "metadata": {
        "id": "YbDBnRrTFh3b"
      },
      "execution_count": null,
      "outputs": []
    },
    {
      "cell_type": "markdown",
      "source": [
        "1. Тензоры можно создавать из листов, массивов и других контейнеров."
      ],
      "metadata": {
        "id": "A6lqbkE5H9CK"
      }
    },
    {
      "cell_type": "code",
      "source": [
        "list2tensor = [1., 2., 3.]\n",
        "tensor = torch.tensor(list2tensor)\n",
        "tensor"
      ],
      "metadata": {
        "colab": {
          "base_uri": "https://localhost:8080/"
        },
        "id": "973ZVmchH8ML",
        "outputId": "5e4c8ee5-84aa-4d12-d8d7-fb6f98b5d4a5"
      },
      "execution_count": null,
      "outputs": [
        {
          "output_type": "execute_result",
          "data": {
            "text/plain": [
              "tensor([1., 2., 3.])"
            ]
          },
          "metadata": {},
          "execution_count": 2
        }
      ]
    },
    {
      "cell_type": "markdown",
      "source": [
        "2. Тензоры можно создавать при помощи инициализирующих функций, как в `numpy`."
      ],
      "metadata": {
        "id": "4zPnifm2IS7F"
      }
    },
    {
      "cell_type": "code",
      "source": [
        "zeros_tensor = torch.zeros(2, 3)\n",
        "zeros_tensor"
      ],
      "metadata": {
        "colab": {
          "base_uri": "https://localhost:8080/"
        },
        "id": "Yt6Tr44DIM53",
        "outputId": "07bd157f-35b5-4c58-95fa-410acd6ecb0e"
      },
      "execution_count": null,
      "outputs": [
        {
          "output_type": "execute_result",
          "data": {
            "text/plain": [
              "tensor([[0., 0., 0.],\n",
              "        [0., 0., 0.]])"
            ]
          },
          "metadata": {},
          "execution_count": 3
        }
      ]
    },
    {
      "cell_type": "code",
      "source": [
        "ones_tensor = torch.ones(2, 3)\n",
        "ones_tensor"
      ],
      "metadata": {
        "colab": {
          "base_uri": "https://localhost:8080/"
        },
        "id": "G5NOC-HBId3g",
        "outputId": "a5d186fe-4d71-42f8-a1d3-876c3f235257"
      },
      "execution_count": null,
      "outputs": [
        {
          "output_type": "execute_result",
          "data": {
            "text/plain": [
              "tensor([[1., 1., 1.],\n",
              "        [1., 1., 1.]])"
            ]
          },
          "metadata": {},
          "execution_count": 4
        }
      ]
    },
    {
      "cell_type": "code",
      "source": [
        "eye_tensor = torch.eye(6)\n",
        "eye_tensor"
      ],
      "metadata": {
        "colab": {
          "base_uri": "https://localhost:8080/"
        },
        "id": "lB9a8KUkIgp7",
        "outputId": "f64f26e5-6633-4ec5-ef9b-b68f5f52d579"
      },
      "execution_count": null,
      "outputs": [
        {
          "output_type": "execute_result",
          "data": {
            "text/plain": [
              "tensor([[1., 0., 0., 0., 0., 0.],\n",
              "        [0., 1., 0., 0., 0., 0.],\n",
              "        [0., 0., 1., 0., 0., 0.],\n",
              "        [0., 0., 0., 1., 0., 0.],\n",
              "        [0., 0., 0., 0., 1., 0.],\n",
              "        [0., 0., 0., 0., 0., 1.]])"
            ]
          },
          "metadata": {},
          "execution_count": 5
        }
      ]
    },
    {
      "cell_type": "markdown",
      "source": [
        "## Автоматическое дифференцирование"
      ],
      "metadata": {
        "id": "XQ1rQRsYgVqt"
      }
    },
    {
      "cell_type": "markdown",
      "source": [
        "Тензор - это структура данных, которая может быть встроена в качестве переменной в любой **вычислительный граф** и хранить информацию не только о текущем значении этой переменной, но и о **градиенте** вычисляемой функции по текущей переменной.\n",
        "\n",
        "Поясню эту мысль на конкретном примере.\n",
        "Пусть мы хотим вычислить функцию от двух переменных $$u(x, y) = 2x^2 + 3y^2 - x - 5y$$\n",
        "\n",
        "Вычисление этой функции можно задать в виде **графа**, каждая вершина которого отвечает некоторой элементарной операции."
      ],
      "metadata": {
        "id": "PFFfgQchc6R8"
      }
    },
    {
      "cell_type": "markdown",
      "source": [
        "![7.png](data:image/png;base64,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)"
      ],
      "metadata": {
        "id": "crrVe8vMCHy_"
      }
    },
    {
      "cell_type": "markdown",
      "source": [
        "По каждой из переменных, участвующих в итоговом вычислении функции $u$, мы можем посчитать частную производную. Причем для вычисления частных производных для более \"отдалённых\" переменных мы можем воспользоваться известным правилом дифференцирования сложной функции:\n",
        "$$\\frac{∂ y(Φ(x))}{\\partial x} = \\frac{∂ y(Φ(x))}{\\partial Φ(x)}⋅\\frac{∂Φ(x)}{\\partial x}$$\n",
        "\n",
        "В нашем случае это значит, что\n",
        "$$\\frac{∂u}{∂x} = \\frac{∂ u}{∂ c}(\\frac{∂c}{∂a}\\frac{∂a}{∂x} + \\frac{∂c}{∂x})$$\n",
        "$$\\frac{∂u}{∂y} = \\frac{∂ u}{∂ d}(\\frac{∂d}{∂b}\\frac{∂b}{∂y} + \\frac{∂d}{∂y})$$\n",
        "\n",
        "Каждую из этих частных производных мы можем вычислить, причём обратите внимание на следующую деталь: **частные производные более низкого уровня выражаются через частные производные более высокого**. Мы воспользуемся очень похожей идеей немного позже.\n",
        "\n",
        "В тензоре `pytorch.tensor` есть специальное поле, позволяющее хранить значения частных производных его элементов. Это поле называется `.grad`. Нужно отметить, что это поле имеется только у тех тензоров, у которых было установлено соответствующее значение флага `requires_grad=True` при инициализации."
      ],
      "metadata": {
        "id": "zfSMTubTeOWL"
      }
    },
    {
      "cell_type": "code",
      "source": [
        "x = torch.tensor([1.], requires_grad=True)\n",
        "y = torch.tensor([2.], requires_grad=True)\n",
        "\n",
        "a = 2*torch.pow(x, 2)\n",
        "b = 3*torch.pow(y, 2)\n",
        "\n",
        "c = a - x\n",
        "d = b - y\n",
        "\n",
        "u = c + d\n",
        "\n",
        "d"
      ],
      "metadata": {
        "id": "7RMdAgZZIkoF",
        "colab": {
          "base_uri": "https://localhost:8080/"
        },
        "outputId": "eead4dd6-c3aa-4cc8-fcab-c762f3316c8d"
      },
      "execution_count": null,
      "outputs": [
        {
          "output_type": "execute_result",
          "data": {
            "text/plain": [
              "tensor([10.], grad_fn=<SubBackward0>)"
            ]
          },
          "metadata": {},
          "execution_count": 6
        }
      ]
    },
    {
      "cell_type": "markdown",
      "source": [
        "При заданных нами значениях $x$ и $y$ мы должны были получить следующий результат:\n",
        "\n",
        "$$a = 2*1^2 = 2$$\n",
        "$$b = 3*2^2 = 12$$\n",
        "$$c = 2 - 1 = 1$$\n",
        "$$d = 12 - 3 = 9$$\n",
        "$$u = 1 + 9 = 10$$"
      ],
      "metadata": {
        "id": "_oCidxHJeN_5"
      }
    },
    {
      "cell_type": "code",
      "source": [
        "u"
      ],
      "metadata": {
        "colab": {
          "base_uri": "https://localhost:8080/"
        },
        "id": "PKMBDQRjeGo_",
        "outputId": "dee23c3d-3cc9-4319-d5e5-2438f944b9d2"
      },
      "execution_count": null,
      "outputs": [
        {
          "output_type": "execute_result",
          "data": {
            "text/plain": [
              "tensor([11.], grad_fn=<AddBackward0>)"
            ]
          },
          "metadata": {},
          "execution_count": 7
        }
      ]
    },
    {
      "cell_type": "code",
      "source": [
        "a"
      ],
      "metadata": {
        "colab": {
          "base_uri": "https://localhost:8080/"
        },
        "id": "gfysqybfe4NZ",
        "outputId": "8e7ce631-310d-4069-f4ba-ce2865601ffa"
      },
      "execution_count": null,
      "outputs": [
        {
          "output_type": "execute_result",
          "data": {
            "text/plain": [
              "tensor([2.], grad_fn=<MulBackward0>)"
            ]
          },
          "metadata": {},
          "execution_count": 8
        }
      ]
    },
    {
      "cell_type": "code",
      "source": [
        "b"
      ],
      "metadata": {
        "colab": {
          "base_uri": "https://localhost:8080/"
        },
        "id": "sH3iFEqWe5y5",
        "outputId": "e903a6f6-a043-4346-d4da-bec18258b11d"
      },
      "execution_count": null,
      "outputs": [
        {
          "output_type": "execute_result",
          "data": {
            "text/plain": [
              "tensor([12.], grad_fn=<MulBackward0>)"
            ]
          },
          "metadata": {},
          "execution_count": 9
        }
      ]
    },
    {
      "cell_type": "code",
      "source": [
        "c"
      ],
      "metadata": {
        "colab": {
          "base_uri": "https://localhost:8080/"
        },
        "id": "9vha3Csbe620",
        "outputId": "469a6432-9663-4535-f034-2799c16f1ec3"
      },
      "execution_count": null,
      "outputs": [
        {
          "output_type": "execute_result",
          "data": {
            "text/plain": [
              "tensor([1.], grad_fn=<SubBackward0>)"
            ]
          },
          "metadata": {},
          "execution_count": 10
        }
      ]
    },
    {
      "cell_type": "code",
      "source": [
        "d"
      ],
      "metadata": {
        "colab": {
          "base_uri": "https://localhost:8080/"
        },
        "id": "FjkU9vzve8RL",
        "outputId": "dc36c892-d745-4482-c0e5-032d342de674"
      },
      "execution_count": null,
      "outputs": [
        {
          "output_type": "execute_result",
          "data": {
            "text/plain": [
              "tensor([10.], grad_fn=<SubBackward0>)"
            ]
          },
          "metadata": {},
          "execution_count": 11
        }
      ]
    },
    {
      "cell_type": "markdown",
      "source": [
        "**Замечание 1:** На практике довольно часто возникают ситуации, когда мы работаем с тензором, содержащим всего одно значение. Например, когда мы посчитали значение функции потерь на некотором наборе данных и хотим помимо всего прочего вывести это значение на экран или передать его в логгер. В таком случае мы бы хотели получить это значение в виде вещественного числа, а не тензора. Конечно, возможен вариант обращения к этому значению по индексу, но существует намного более удобный и элегантный способ обратиться к этому значению - использование функции `.item()`"
      ],
      "metadata": {
        "id": "oDKr4FEJe-Q9"
      }
    },
    {
      "cell_type": "code",
      "source": [
        "u.item()"
      ],
      "metadata": {
        "colab": {
          "base_uri": "https://localhost:8080/"
        },
        "id": "JT24eB18eM5P",
        "outputId": "587269cb-e153-4c75-b032-e63244d6d6a7"
      },
      "execution_count": null,
      "outputs": [
        {
          "output_type": "execute_result",
          "data": {
            "text/plain": [
              "11.0"
            ]
          },
          "metadata": {},
          "execution_count": 12
        }
      ]
    },
    {
      "cell_type": "markdown",
      "source": [
        "**Замечанние 2:** Обратите внимание, что при выводе на экран каждого из тензоров, с которыми мы работаем, мы видим не только набор данных, содержащихся в этом тензоре, но и значение `grad_fn`. `grad_fn` - это аттрибут, хранящий информацию о том, какая функция будет использована для вычисления градиента по данной переменной. Например, если речь идёт о переменной `c`, полученной при помощи операции вычитания, градиент будет посчитан при помощи `SubBackward` (от англ. *Substruction* - вычитание)."
      ],
      "metadata": {
        "id": "8wChzQhhfqbc"
      }
    },
    {
      "cell_type": "markdown",
      "source": [
        "### Вычисление градиентов\n",
        "\n",
        "Вычислить градиенты по каждой из переменных, участвовавших в вычислении итоговой функции в `pytorch` очень просто. Для этого достаточно вызвать метод `.backward()`. После этого произойдёт следующее: для каждой из переменных, от которых итоговая функция зависит непосредственно (назовём их переменными первого уровня), будут посчитаны значения производных при помощи записанных `grad_fn`, затем эта операция будет повторена для всех переменных от которых зависят переменные первого уровня и т.д.\n",
        "\n",
        "То есть, как только мы выполним операцию `u.backward()`, произойдут следующие вычисления: будут посчитаны частные производные $\\frac{\\partial u}{\\partial c}$ и $\\frac{\\partial u}{\\partial d}$, затем $\\frac{\\partial u}{\\partial a} = \\frac{\\partial u}{\\partial c}\\frac{\\partial c}{\\partial a}$ и т.д. и каждая из этих производных будет записана в поле `.grad` соответсвующего тензора.\n",
        "\n",
        "**Замечание:** на самом деле непосредственно обратиться можно только к градиентам листовых переменных графа вычислений (то есть тех, которые подаются сами по себе, а не на основе вычисления некоторых промежуточных значений, в нашем случае это $x$ и $y$). Для обращения к остальным частным производным нужно провести некоторую дополнительную операцию, о которой мы не будем подробно говорить в силу того, что её на практике обычно не применяют."
      ],
      "metadata": {
        "id": "hvHBk1bngewM"
      }
    },
    {
      "cell_type": "code",
      "source": [
        "u.backward()"
      ],
      "metadata": {
        "id": "uREGVjbofodD"
      },
      "execution_count": null,
      "outputs": []
    },
    {
      "cell_type": "markdown",
      "source": [
        "Теперь мы можем обратиться к значения производных $\\frac{\\partial u}{\\partial x}$ и $\\frac{\\partial u}{\\partial y}$"
      ],
      "metadata": {
        "id": "rrb7pZ__quYy"
      }
    },
    {
      "cell_type": "code",
      "source": [
        "x.grad"
      ],
      "metadata": {
        "colab": {
          "base_uri": "https://localhost:8080/"
        },
        "id": "s4WfRWSip93s",
        "outputId": "3cead6fa-e86c-4e76-dae4-8d7f19ae6ded"
      },
      "execution_count": null,
      "outputs": [
        {
          "output_type": "execute_result",
          "data": {
            "text/plain": [
              "tensor([3.])"
            ]
          },
          "metadata": {},
          "execution_count": 14
        }
      ]
    },
    {
      "cell_type": "code",
      "source": [
        "y.grad"
      ],
      "metadata": {
        "colab": {
          "base_uri": "https://localhost:8080/"
        },
        "id": "CZPmQygwqtft",
        "outputId": "77a3dc5b-9fc8-4280-baf3-c6b650f62094"
      },
      "execution_count": null,
      "outputs": [
        {
          "output_type": "execute_result",
          "data": {
            "text/plain": [
              "tensor([11.])"
            ]
          },
          "metadata": {},
          "execution_count": 15
        }
      ]
    },
    {
      "cell_type": "markdown",
      "source": [
        "## Нейронные сети на Pytorch\n",
        "\n",
        "Теперь мы переходим к самому интересному - созданию полноценных нейронных сетей на основе модулей Pytorch. Нейронные сети в Pytorch похожи на конструктор: есть набор стандартных блоков из которых мы можем собрать итоговую модель. На прошлой лекции мы разбирали структуру полносвязных нейронных сетей, а также обсуждали что такое слой полносвязной нейронной сети. Построим свою собственную полносвязную нейронную сеть на основе готовых блоков Pytorch.\n",
        "\n",
        "Каждый полносвязный слой представляет из себя комбинацию линейного преобразования $W \\cdot X + B$ и некоторого нелинейного заданного заранее выбранной **функцией активации**.\n",
        "\n",
        "Слой, представляющий из себя линейное преобразование задаётся при помощи класса `torch.nn.Linear`. Модуль `torch.nn` вообще активно применяется при работе с нейронными сетями в `pytorch`.\n",
        "\n",
        "Для создания линейного слоя с матрицей, инициализированной случайными параметрами, размера $n \\times m$ мы воспользуемся следующей командой:"
      ],
      "metadata": {
        "id": "vQa6nV13rKQy"
      }
    },
    {
      "cell_type": "code",
      "source": [
        "import torch.nn as nn\n",
        "\n",
        "n = 5\n",
        "m = 3\n",
        "linear_layer = nn.Linear(n, m)"
      ],
      "metadata": {
        "id": "goIuDHtLrDDG"
      },
      "execution_count": null,
      "outputs": []
    },
    {
      "cell_type": "markdown",
      "source": [
        "$n$ в данном случае - размерность признакового описания данных, с которыми мы будем работать, а $m$ - это число нйеронов в слое.\n",
        "\n",
        "Далее зададим функцию активации. Многие известные функции активации реализованы в модуле `nn` и продублированы в модуле `nn.functional`. Выберем какую-нибудь из них, например, гиперболический тангенс (tanh)."
      ],
      "metadata": {
        "id": "Gr1zAkBBy22S"
      }
    },
    {
      "cell_type": "code",
      "source": [
        "import torch.nn.functional as F\n",
        "\n",
        "# Можно использовать такой вариант\n",
        "activation = F.tanh\n",
        "# или более правильный вариант:\n",
        "activation = nn.Tanh()\n",
        "type(activation)"
      ],
      "metadata": {
        "id": "4LDd0Xk9yxCl",
        "colab": {
          "base_uri": "https://localhost:8080/"
        },
        "outputId": "eaccadc3-e49f-4487-df27-33c44e56c3ba"
      },
      "execution_count": null,
      "outputs": [
        {
          "output_type": "execute_result",
          "data": {
            "text/plain": [
              "torch.nn.modules.activation.Tanh"
            ]
          },
          "metadata": {},
          "execution_count": 18
        }
      ]
    },
    {
      "cell_type": "markdown",
      "source": [
        "**Замечание:** второй вариант является более правильным, поскольку при использовании функций активации из `torch.nn` мы получаем готовые объекты, имеющие интерфейс слоя, что убережёт нас от неожиданных ошибок. Использование же функций напрямую из `torch.nn.functional` иногда может приводить к не вполне корректной работе сложных моделей. Безопаснее и правильнее использовать именно классы из `torch.nn`, однако очень часто на раличных ресурсах, посвященных  `Pytorch`, можно встретить использование объектов из `torch.nn.functional`, поэтому мы считаем нужным рассказать и о таком способе использования функций активации."
      ],
      "metadata": {
        "id": "YXnjDYPmWYLi"
      }
    },
    {
      "cell_type": "markdown",
      "source": [
        "Теперь проход некоторого тензора с данными через такой полносвязный слой будет задан при помощи последовательности команд:"
      ],
      "metadata": {
        "id": "Pg5ep-gf0Zvv"
      }
    },
    {
      "cell_type": "code",
      "source": [
        "random_input = torch.rand(n)\n",
        "\n",
        "z = linear_layer(random_input)\n",
        "output = activation(z)\n",
        "output"
      ],
      "metadata": {
        "colab": {
          "base_uri": "https://localhost:8080/"
        },
        "id": "NPbEMh2k0jwn",
        "outputId": "114a93f3-8bde-4ac3-f55e-883edde4e6cc"
      },
      "execution_count": null,
      "outputs": [
        {
          "output_type": "execute_result",
          "data": {
            "text/plain": [
              "tensor([-0.1221, -0.3683, -0.2487], grad_fn=<TanhBackward0>)"
            ]
          },
          "metadata": {},
          "execution_count": 19
        }
      ]
    },
    {
      "cell_type": "markdown",
      "source": [
        "Самый простой способ объединить несколько модулей в цепочку последовательных вычислений - это использование модуля `nn.Sequential`. Этот класс позволит нам объединить несколько модулей в один контейнер так, что в случае применения этого контейнера к некоторму тензору, вычисления будут проведены в том порядке, в котором мы передали элементы. То есть предыдущую ячейку можно заменить на следующий фрагмент кода:"
      ],
      "metadata": {
        "id": "EudISoSc0TEx"
      }
    },
    {
      "cell_type": "code",
      "source": [
        "FF_layer = nn.Sequential(linear_layer, activation)\n",
        "FF_layer(random_input)"
      ],
      "metadata": {
        "colab": {
          "base_uri": "https://localhost:8080/"
        },
        "id": "Ghaxib1_zmIP",
        "outputId": "c6026fba-9312-4f0e-c93b-3efbfa015158"
      },
      "execution_count": null,
      "outputs": [
        {
          "output_type": "execute_result",
          "data": {
            "text/plain": [
              "tensor([-0.1221, -0.3683, -0.2487], grad_fn=<TanhBackward0>)"
            ]
          },
          "metadata": {},
          "execution_count": 20
        }
      ]
    },
    {
      "cell_type": "markdown",
      "source": [
        "Мы получили точно такой же результат. Давайте применим этот инструмент для решения какой-нибудь простой задачи. Например, попробуем смоделировать функцию косинуса при помощи полносвязной нейронной сети."
      ],
      "metadata": {
        "id": "unvb0pk52ocA"
      }
    },
    {
      "cell_type": "markdown",
      "source": [
        "### Пример: приближение функции косинуса"
      ],
      "metadata": {
        "id": "x4yNdDS-27rB"
      }
    },
    {
      "cell_type": "markdown",
      "source": [
        "Прежде всего зададим одномерный датасет."
      ],
      "metadata": {
        "id": "q4Ap0XRb27vz"
      }
    },
    {
      "cell_type": "code",
      "source": [
        "X = torch.normal(mean=torch.zeros((1000, 1)), std= 2)\n",
        "Y = torch.cos(X)"
      ],
      "metadata": {
        "id": "kHqU_VgZ2SBA"
      },
      "execution_count": null,
      "outputs": []
    },
    {
      "cell_type": "code",
      "source": [
        "import matplotlib.pyplot as plt\n",
        "import seaborn as sns\n",
        "\n",
        "sns.set_theme()\n",
        "\n",
        "plt.figure(figsize=(20,7))\n",
        "plt.scatter(x=X, y=Y);"
      ],
      "metadata": {
        "colab": {
          "base_uri": "https://localhost:8080/",
          "height": 431
        },
        "id": "T5bp_8a03Tb2",
        "outputId": "597c6868-d1ab-4f38-e0f8-88af49d7dcba"
      },
      "execution_count": null,
      "outputs": [
        {
          "output_type": "display_data",
          "data": {
            "text/plain": [
              "<Figure size 1440x504 with 1 Axes>"
            ],
            "image/png": "[encoded data removed]"
          },
          "metadata": {}
        }
      ]
    },
    {
      "cell_type": "markdown",
      "source": [
        "Теперь зададим нейронную сеть. Перед нами встаёт непростой выбор архитектуры нейронной сети. Мы должны подобрать такое количество нейронов, чтобы нейронная сеть не переобучилась, но при этом была достаточно ёмкой чтобы выучить неизвестную зависимость. К счастью, в таком простом случае вопрос о переобучении модели вообще не стоит. Попробуем выбрать трёхслойную нейронную сеть, в каждом слое которой будет по 5 нейронов, а в последнем - только один. В качестве функции активации выберем гиперболический тангенс."
      ],
      "metadata": {
        "id": "J4QvBMDH3p3k"
      }
    },
    {
      "cell_type": "code",
      "source": [
        "import torch.nn as nn\n",
        "NN = nn.Sequential(nn.Linear(1, 5, bias=True),\n",
        "                   nn.Tanh(),\n",
        "                   nn.Linear(5, 5, bias=True),\n",
        "                   nn.Tanh(),\n",
        "                   nn.Linear(5, 1, bias=True),\n",
        "                   nn.Tanh())"
      ],
      "metadata": {
        "id": "6U4OveWe3dy6"
      },
      "execution_count": null,
      "outputs": []
    },
    {
      "cell_type": "markdown",
      "source": [
        "Посмотрим, что умеет наша нейронная сеть прямо сейчас"
      ],
      "metadata": {
        "id": "ijn4W-TX55ue"
      }
    },
    {
      "cell_type": "code",
      "source": [
        "X_test = torch.linspace(-6, 6, 1000)\n",
        "Y_test = torch.cos(X_test)\n",
        "\n",
        "nn_prediction = NN(X_test.view(-1, 1))\n",
        "nn_prediction = nn_prediction.detach().numpy()\n",
        "\n",
        "plt.figure(figsize=(20,7))\n",
        "plt.scatter(x=X_test, y=Y_test, label='True Cosine');\n",
        "plt.scatter(x=X_test, y=nn_prediction, label='NN predictions');\n",
        "plt.legend()"
      ],
      "metadata": {
        "colab": {
          "base_uri": "https://localhost:8080/",
          "height": 449
        },
        "id": "DvR7Vccw545S",
        "outputId": "e9aa469c-2d12-47b5-d1e8-ae6e16cb00a3"
      },
      "execution_count": null,
      "outputs": [
        {
          "output_type": "execute_result",
          "data": {
            "text/plain": [
              "<matplotlib.legend.Legend at 0x7f6be97d17c0>"
            ]
          },
          "metadata": {},
          "execution_count": 33
        },
        {
          "output_type": "display_data",
          "data": {
            "text/plain": [
              "<Figure size 1440x504 with 1 Axes>"
            ],
            "image/png": "[encoded data removed]"
          },
          "metadata": {}
        }
      ]
    },
    {
      "cell_type": "markdown",
      "source": [
        "**Замечание 1:** в 4 строке предыдущей ячейки мы воспользовались функцией `.view()`. `.view()` - это альтернатива функции `.reshape()`, позволяющая изменить размерность тензора без изменения данных в нём. Здесь мы применили её для того, чтобы сделать из вектора входных данных матрицу того же размера. Эта формальность необходима для корректного прохода тензора через наши преобразования.\n",
        "\n",
        "**Замечание 2:** в 5 строке мы выполнили комбинацию методов тензора `.detach().numpy()`. Функция `.detach()` нужна для извлечения тензора из графа вычислений, а функция `.numpy()` для получения массива `numpy` из тензора. В целом это необходимо нам для визуализации результата"
      ],
      "metadata": {
        "id": "43vL-AHv7TIo"
      }
    },
    {
      "cell_type": "markdown",
      "source": [
        "Полученный результат ожидаем, поскольку наша нейронная сеть не обучена. Давайте обучим её. Но сначала поговорим о том, как вообще это можно сделать.\n"
      ],
      "metadata": {
        "id": "Qnk1Jd558FM0"
      }
    },
    {
      "cell_type": "markdown",
      "source": [
        "## Обучение нейронных сетей\n",
        "\n",
        "Нейронные сетиобучаются при помощи градиентных алгоритмов оптимизации. Градиентные алгоритмы - это алгоритмы, основанные на базовой идее алгоритма градиентного спуска: последовательном вычислении приближений оптимальных параметров нейронной сети на основе вычисления градиентов по этим параметров и выполнения шага градиентного спуска:\n",
        "\n",
        "$$W_{t+1} = W_t - λ\\cdot∇L_W$$\n",
        "\n",
        "На основе стандартного градиентного спуска было придумано большое количество модификаций. Наиболее популярной и эффективной модификацией на сегодняшний день является алгоритм **ADAM** (Adaptive Gradients with Momentum). Для каждого из возможных градиентных методов встаёт вопрос об эффективном способе вычисления градиента функции потерь по параметрам глубокой нейронной сети. Для этой цели существует известный алгоритм **обратного распространения ошибки** (backpropagation)."
      ],
      "metadata": {
        "id": "QcKhiM4m8Tzx"
      }
    },
    {
      "cell_type": "markdown",
      "source": [
        "### Алгоритм обратного распространения ошибки*\n",
        "\n",
        "Алгоритм обратного распространения ошибки - это метод применения правила дифференцирования сложной функции к задаче последовательного вычисления градиента в слоях нейронной сети."
      ],
      "metadata": {
        "id": "oVTGZf3i-jFd"
      }
    },
    {
      "cell_type": "markdown",
      "source": [
        "![10.png](data:image/png;base64,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)"
      ],
      "metadata": {
        "id": "0tJYjUzk_MXA"
      }
    },
    {
      "cell_type": "markdown",
      "source": [
        "Ради удобства введём следующие обозначения и термины:\n",
        "\n",
        "- Последовательное преобразование исходного тензора $X$ в процессе его обрработки нейронной сетью мы будем называть *сигналом*.\n",
        "- Для каждого полносвязного слоя значение сигнала, обработанного линейным преобразованием, но еще не поданного в функцию активации, будем называть *предактивацией* и ообозначим $z$\n",
        "- Выход слоя после преобразования функцией активации будем называть активацией слоя $a$\n",
        "- Обозначим минимизируемую функцию за $Q$, а за $L$ обозначим применение линейного преобразования в рамках слоя\n",
        "\n",
        "\n",
        "Переход сигнала между слоями определяется следующей формулой:\n",
        "\n",
        "$$z_{i+1} = L_i(a_i) = L_i(f_i(z_i))$$\n",
        "\n",
        "Где $L_i$ - это линейное преобразование, задающее i-й слой (то есть в базовом случае - просто уумножение на некоторую матрицу), а $f_i$ - функция активации i-го слоя. Алгоритм обратнного распространения ошибки предлагает разложить производную функции потерь Q по параметрам i-го слоя следующим образом:\n",
        "\n",
        "$$\\frac{∂ Q}{∂ ω_i} = \\frac{∂ Q}{∂ z_{i+1}}\\frac{∂ z_{i+1}}{∂ ω_i} = \\frac{∂ Q}{∂ z_{i+1}}\\frac{∂ z_{i+1}}{∂ z_i}\\frac{∂ z_{i}}{∂ \\omega_i}$$\n",
        "\n",
        "Данную формулу следует понимать следующим образом: индексы здесь означают номер слоя, к которому относятся соответствующие обозначения. Под $ω_i$ здесь подразумевается произвольный параметр i-го слоя, то есть эта формула верна для любого элемента матрицы $W_i$, задающей i-й линейный слой.\n",
        "\n",
        "Причем в данной формуле верно следующее:\n",
        "\n",
        "(1) Для последнего слоя посчитать производные по параметрами и предактивациям не составит труда. Их довольно мало и это не займёт много времени. В стандартных задачах классификации и регрессии последний слой содержит вообще единственный нейрон.\n",
        "\n",
        "(2) Если мы знаем производные по предактивациям i+1 слоя, для нас не составит труда посчитать производные по параметрам i-го слоя согласно последней формуле. Действительно: $\\frac{∂ z_{i+1}}{∂ z_i}$ - элементарно выражается, так как $z_{i+1} = W_{i+1}⋅f_i(z_i)$, где мы знаем и матрицу $W_i$ и функцию $f_i$. Также мы можем посчитать производную $\\frac{∂ z_{i}}{∂ \\omega_i}$, поскольку $\\omega_i$ - компонент матрицы $W_i$, а $z_i = W_i \\cdot a_{i-1}$\n",
        "\n",
        "(3) Таким образом, начав с производных последнего слоя, мы можем пойти шаг за шагом назад к первому слою и пересчитать все производные"
      ],
      "metadata": {
        "id": "r6GkkxUY_N_L"
      }
    },
    {
      "cell_type": "markdown",
      "source": [
        "## Обучение нейронной сети в Pytorch\n",
        "\n",
        "На самом деле алгоритм bacpropagation уже заложен в pytorch как элемент стандартных оптимизаторов, так что нам не придётся думать о его численной реализации.\n",
        "\n",
        "Напишем свою функцию `train` для обучения нейронной сети.\n",
        "\n",
        "Эта функция примет следующие аргументы:\n",
        "\n",
        "- model - нейронная сеть\n",
        "- x и y - обучающая выборка\n",
        "- criterion - функция потерь, взятая из модуля `torch.nn`\n",
        "- optimizer - оптимизатор, взятый из модуля `torch.optim`\n",
        "- num_epoch - количество эпох обучения, то есть число градиентных шагов, которые будут выполнены для каждого объекта в выборке"
      ],
      "metadata": {
        "id": "oc45jZzGA39U"
      }
    },
    {
      "cell_type": "code",
      "source": [
        "import tqdm\n",
        "from tqdm.auto import tqdm\n",
        "def train(model, x, y, criterion, optimizer, num_epoch):\n",
        "    for t in tqdm(range(num_epoch)):\n",
        "      # Внещний цикл по числу эпох обучения\n",
        "        for i, X in enumerate(x):\n",
        "            # Внутренний цикл по всем объектам в обучающей выборке\n",
        "            # Вычислим предсказания нашей модели\n",
        "            y_pred = model(X)\n",
        "\n",
        "            # Посчитаем значение функции потерь  на полученном предсказании\n",
        "            loss = criterion(y_pred, y[i])\n",
        "\n",
        "            # Обнулим посчитанные ранее значения градиентов\n",
        "            optimizer.zero_grad()\n",
        "\n",
        "            # Выполним подсчёт новых градиентов\n",
        "            loss.backward()\n",
        "\n",
        "            # Выполним шаг градиентного спуска\n",
        "            optimizer.step()\n",
        "    return model"
      ],
      "metadata": {
        "id": "zGL6RiJS6o2Y"
      },
      "execution_count": null,
      "outputs": []
    },
    {
      "cell_type": "markdown",
      "source": [
        "Обучим нашу нейронную сеть, выбрав в качестве функции потерь среднеквадратичную ошибку, реализованную в `nn.MSELoss`, а в качестве оптимизатора - **ADAM**. В аргументы оптимизатора мы дожны передать параметры нашей модели, а также значение множителя перед градиентом в шаге градиентного спуска *learning rate*"
      ],
      "metadata": {
        "id": "w4vj4n1nDHQ9"
      }
    },
    {
      "cell_type": "code",
      "source": [
        "criterion = torch.nn.MSELoss()\n",
        "optimizer = torch.optim.Adam(NN.parameters(), lr=1e-2)\n",
        "\n",
        "NN = train(NN, X, Y, criterion,optimizer, 5)"
      ],
      "metadata": {
        "colab": {
          "base_uri": "https://localhost:8080/",
          "height": 49,
          "referenced_widgets": [
            "6c093b0ae7904ab3b4504681fd4ca820",
            "7af99d68585d4e4880d027f97f994dc4",
            "89e3e51cb3df46b5a793237326e76234",
            "48249a4a349846fb8e968bdb6eabf628",
            "4b9994b5ac7648018e0bda02f4413ed1",
            "5e1928b16e1b4a4f9e1621e11dc61a5d",
            "a94b68e6abd64c8191846ed9dabc606b",
            "b59ed05c5f0245fa936fb6f8551b0fd0",
            "a40c7852ab634ed6ba170396c4099e37",
            "adfe61829a8848b2886581bb37cf91c5",
            "5ac33a0caca9488ca07dd8411c0ec20d"
          ]
        },
        "id": "x7rZ3oc6DD76",
        "outputId": "aa2d0dd5-e527-4aae-c76c-c6ebe692ef80"
      },
      "execution_count": null,
      "outputs": [
        {
          "output_type": "display_data",
          "data": {
            "text/plain": [
              "  0%|          | 0/5 [00:00<?, ?it/s]"
            ],
            "application/vnd.jupyter.widget-view+json": {
              "version_major": 2,
              "version_minor": 0,
              "model_id": "6c093b0ae7904ab3b4504681fd4ca820"
            }
          },
          "metadata": {}
        }
      ]
    },
    {
      "cell_type": "markdown",
      "source": [
        "Посмотрим теперь, каков будет результат."
      ],
      "metadata": {
        "id": "C9qQm8m6DmAc"
      }
    },
    {
      "cell_type": "code",
      "source": [
        "nn_prediction = NN(X_test.view(-1, 1))\n",
        "nn_prediction = nn_prediction.detach().numpy()\n",
        "\n",
        "plt.figure(figsize=(20,7))\n",
        "plt.scatter(x=X_test, y=Y_test, label='True Cosine');\n",
        "plt.scatter(x=X_test, y=nn_prediction, label='NN predictions');\n",
        "plt.legend()"
      ],
      "metadata": {
        "colab": {
          "base_uri": "https://localhost:8080/",
          "height": 449
        },
        "id": "FfyZpTsiDjm9",
        "outputId": "c2cd0958-1e4f-47a4-f275-11c19ab81eb5"
      },
      "execution_count": null,
      "outputs": [
        {
          "output_type": "execute_result",
          "data": {
            "text/plain": [
              "<matplotlib.legend.Legend at 0x7f6be964ddc0>"
            ]
          },
          "metadata": {},
          "execution_count": 40
        },
        {
          "output_type": "display_data",
          "data": {
            "text/plain": [
              "<Figure size 1440x504 with 1 Axes>"
            ],
            "image/png": "[encoded data removed]"
          },
          "metadata": {}
        }
      ]
    },
    {
      "cell_type": "markdown",
      "source": [
        "Стало заметно лучше, но явно требуется еще несколько итераций обучения."
      ],
      "metadata": {
        "id": "Yog9K3uwD-R_"
      }
    },
    {
      "cell_type": "code",
      "source": [
        "NN = train(NN, X, Y, criterion, optimizer, 15)"
      ],
      "metadata": {
        "colab": {
          "base_uri": "https://localhost:8080/",
          "height": 49,
          "referenced_widgets": [
            "55ed70a9a6a544fdae30eab9871b8e4a",
            "2374ef3e61ac440da0b45b9638b5750e",
            "da8dfa2e292b4981bbf1115b41c71605",
            "88b93ea4832b4fa0b4bdee1954c3c2ef",
            "4e2a7f354a0d42a2ad366dbd3683fdd8",
            "46675d15315c4f35bdc54c3bc352d463",
            "bb54fab5f3354a02aed64faa8e351836",
            "32696e2c84b74a77a7039b7657c89634",
            "90652bf4de4e4fe1a64db81c6fd8fe1e",
            "a2f6f8ecbf074b2ab96f374cd76048f6",
            "ce219aa963cf487a94a3ae967f3360ea"
          ]
        },
        "id": "OOg_9l3hDsRI",
        "outputId": "54160458-89f1-4518-bb1e-de701f79a5e5"
      },
      "execution_count": null,
      "outputs": [
        {
          "output_type": "display_data",
          "data": {
            "text/plain": [
              "  0%|          | 0/15 [00:00<?, ?it/s]"
            ],
            "application/vnd.jupyter.widget-view+json": {
              "version_major": 2,
              "version_minor": 0,
              "model_id": "55ed70a9a6a544fdae30eab9871b8e4a"
            }
          },
          "metadata": {}
        }
      ]
    },
    {
      "cell_type": "code",
      "source": [
        "nn_prediction = NN(X_test.view(-1, 1))\n",
        "nn_prediction = nn_prediction.detach().numpy()\n",
        "\n",
        "plt.figure(figsize=(20,7))\n",
        "plt.scatter(x=X_test, y=Y_test, label='True Cosine');\n",
        "plt.scatter(x=X_test, y=nn_prediction, label='NN predictions');\n",
        "plt.legend()"
      ],
      "metadata": {
        "colab": {
          "base_uri": "https://localhost:8080/",
          "height": 449
        },
        "id": "tPzvUG3xEF5h",
        "outputId": "2f82a5a1-3cf6-476e-d9e3-9846b3d324cc"
      },
      "execution_count": null,
      "outputs": [
        {
          "output_type": "execute_result",
          "data": {
            "text/plain": [
              "<matplotlib.legend.Legend at 0x7f6be95ee8b0>"
            ]
          },
          "metadata": {},
          "execution_count": 42
        },
        {
          "output_type": "display_data",
          "data": {
            "text/plain": [
              "<Figure size 1440x504 with 1 Axes>"
            ],
            "image/png": "[encoded data removed]"
          },
          "metadata": {}
        }
      ]
    },
    {
      "cell_type": "markdown",
      "source": [
        "Один из возможных вариантов улучшения сходимости - это уменьшение градиентного шага. Давайте понизим его до 0.001 и выполним еще несколько итераций обучения."
      ],
      "metadata": {
        "id": "PHi-_pYLENpN"
      }
    },
    {
      "cell_type": "code",
      "source": [
        "optimizer = torch.optim.Adam(NN.parameters(), lr=1e-3)\n",
        "\n",
        "NN = train(NN, X, Y, criterion,optimizer, 25)"
      ],
      "metadata": {
        "colab": {
          "base_uri": "https://localhost:8080/",
          "height": 49,
          "referenced_widgets": [
            "45fd8296d36d4c9892cdf45fd08db4c6",
            "9967295f380d4e58aef42bb748967a32",
            "c9b246a9fc78454288cd799c4678f81c",
            "1b2566daa1234fc7a1fa1f49f47c1fd6",
            "e53318bc9b9546d7a20bf8c805d4dc88",
            "4787da6ee5574644957d2b5aeb1cb128",
            "e4ab9a5bba1f48158a1213dc73fd4d64",
            "562c8e3d857945d3b7423a5d5ebc16df",
            "e31389f85e5646638876e6dc9dbc5f3c",
            "6d223feaeaf5439890177466943c597e",
            "995149e98526450fb25c732eea3b8a08"
          ]
        },
        "id": "QCV12TMCELQ3",
        "outputId": "c7cb3368-990e-4946-84b2-648f13b53833"
      },
      "execution_count": null,
      "outputs": [
        {
          "output_type": "display_data",
          "data": {
            "text/plain": [
              "  0%|          | 0/25 [00:00<?, ?it/s]"
            ],
            "application/vnd.jupyter.widget-view+json": {
              "version_major": 2,
              "version_minor": 0,
              "model_id": "45fd8296d36d4c9892cdf45fd08db4c6"
            }
          },
          "metadata": {}
        }
      ]
    },
    {
      "cell_type": "code",
      "source": [
        "nn_prediction = NN(X_test.view(-1, 1))\n",
        "nn_prediction = nn_prediction.detach().numpy()\n",
        "\n",
        "plt.figure(figsize=(20,7))\n",
        "plt.scatter(x=X_test, y=Y_test, label='True Cosine');\n",
        "plt.scatter(x=X_test, y=nn_prediction, label='NN predictions');\n",
        "plt.legend()"
      ],
      "metadata": {
        "colab": {
          "base_uri": "https://localhost:8080/",
          "height": 449
        },
        "id": "3nA3WWQsEeNF",
        "outputId": "ec0d885a-beab-4ca0-8898-81f51b04929b"
      },
      "execution_count": null,
      "outputs": [
        {
          "output_type": "execute_result",
          "data": {
            "text/plain": [
              "<matplotlib.legend.Legend at 0x7f6be955c970>"
            ]
          },
          "metadata": {},
          "execution_count": 44
        },
        {
          "output_type": "display_data",
          "data": {
            "text/plain": [
              "<Figure size 1440x504 with 1 Axes>"
            ],
            "image/png": "[encoded data removed]"
          },
          "metadata": {}
        }
      ]
    },
    {
      "cell_type": "markdown",
      "source": [
        "Результат стал существенно лучше.\n",
        "\n",
        "Мы видим несовершенство аппроксимации на краях графика, это связано прежде всего с тем, что в нашей исходной выборке координаты взяты из нормального распределения, поэтому объектов, лежащих за пределами границ -3 и +3 очень мало, а значит мало прецедентов, по которым обучается наша нейронная сеть."
      ],
      "metadata": {
        "id": "nCyyacT9Eum0"
      }
    },
    {
      "cell_type": "markdown",
      "source": [
        "## Наследование от класса nn.Module\n",
        "\n",
        "Иногда такой простой структуры как `Sequential` недостаточно для создания достаточно сложных моделей. Иногда это связано с тем, что в вычислениях нужно создать несколько независимых веток, иногда - с необходимостью логировать историю вычислений. Могут быть и другие причины. В любом случае хотелось бы иметь возможность вмешиваться в результаты промежуточных вычислений. Для этого существует более гибкий способ работать с нейронными сетями в Pytorch - это написание собственных классов, унаследованных от класса `nn.Module`.\n",
        "\n",
        "Описание прямого прохода через такой блок происходит в форме спецификации функции `forward`."
      ],
      "metadata": {
        "id": "u8N2lGGqFS95"
      }
    },
    {
      "cell_type": "code",
      "source": [
        "class Net(nn.Module):\n",
        "    def __init__(self, dim):\n",
        "      #dim - размерность, self - функция активации\n",
        "        super(Net, self).__init__()\n",
        "        self.L1 = nn.Linear(dim, 5)\n",
        "        self.L2 = nn.Linear(5, 5)\n",
        "        self.L3 = nn.Linear(5, 1)\n",
        "        self.activation = nn.Tanh()\n",
        "\n",
        "    def forward(self, x):\n",
        "        x = self.L1(x)\n",
        "        x = self.activation(x)\n",
        "        x = self.L2(x)\n",
        "        x = self.activation(x)\n",
        "        x = self.L3(x)\n",
        "        return self.activation(x)"
      ],
      "metadata": {
        "id": "wfInbSDWEiS3"
      },
      "execution_count": null,
      "outputs": []
    },
    {
      "cell_type": "code",
      "source": [
        "NN = Net(1)"
      ],
      "metadata": {
        "id": "8gzVXXi5S1L9"
      },
      "execution_count": null,
      "outputs": []
    },
    {
      "cell_type": "markdown",
      "source": [
        "Обучить такую модель можно точно также - при помощи уже имеющейся у нас функции `train`"
      ],
      "metadata": {
        "id": "eYjCG9FuS39R"
      }
    },
    {
      "cell_type": "code",
      "source": [
        "criterion = torch.nn.MSELoss()\n",
        "optimizer = torch.optim.Adam(NN.parameters(), lr=1e-3)\n",
        "\n",
        "NN = train(NN, X, Y, criterion,optimizer, 100)"
      ],
      "metadata": {
        "colab": {
          "base_uri": "https://localhost:8080/",
          "height": 49,
          "referenced_widgets": [
            "434b8e5e9f514d08b82ee50e829a43dc",
            "457572e9822a4b5b98da40f3273d93c6",
            "00693beb9b6e483289f6fcb2eecec996",
            "000dc8dc8a4147a88f75d5ce5799a0f3",
            "4f842a3459ca426d8f4029eae10c0c8b",
            "23a9e8a19ab0453bad2c7a01528a2a9b",
            "e7a813e57a4b461d9db932b5f5a9872b",
            "4b7e7819658d4f28939f13d37dd2bf26",
            "7830cb64dd8e4562981f1777c704af6c",
            "85ffe6e0fa4f429fa42488f8a64f2466",
            "a02c49440d5145859a57cfd2c7f0871c"
          ]
        },
        "id": "RQotCpNpS3Sw",
        "outputId": "74bac754-d9b4-4b00-dcee-5f4b1e25c115"
      },
      "execution_count": null,
      "outputs": [
        {
          "output_type": "display_data",
          "data": {
            "text/plain": [
              "  0%|          | 0/100 [00:00<?, ?it/s]"
            ],
            "application/vnd.jupyter.widget-view+json": {
              "version_major": 2,
              "version_minor": 0,
              "model_id": "434b8e5e9f514d08b82ee50e829a43dc"
            }
          },
          "metadata": {}
        }
      ]
    },
    {
      "cell_type": "code",
      "source": [
        "nn_prediction = NN(X_test.view(-1, 1))\n",
        "nn_prediction = nn_prediction.detach().numpy()\n",
        "\n",
        "plt.figure(figsize=(20,7))\n",
        "plt.scatter(x=X_test, y=Y_test, label='True Cosine');\n",
        "plt.scatter(x=X_test, y=nn_prediction, label='NN predictions');\n",
        "plt.legend()"
      ],
      "metadata": {
        "colab": {
          "base_uri": "https://localhost:8080/",
          "height": 449
        },
        "id": "dt7NEoDiS_Ar",
        "outputId": "34214461-02c1-45be-8bde-31fceabbaaee"
      },
      "execution_count": null,
      "outputs": [
        {
          "output_type": "execute_result",
          "data": {
            "text/plain": [
              "<matplotlib.legend.Legend at 0x7fba49bde820>"
            ]
          },
          "metadata": {},
          "execution_count": 63
        },
        {
          "output_type": "display_data",
          "data": {
            "text/plain": [
              "<Figure size 1440x504 with 1 Axes>"
            ],
            "image/png": "[encoded data removed]"
          },
          "metadata": {}
        }
      ]
    },
    {
      "cell_type": "markdown",
      "source": [
        "Наследование от класса `nn.Module` позволяет реализовать совместимость нашей модели с интерфейсом `Pytorch`, а также использовать некоторые дополнительные возможности. К примеру, мы можем получить доступ к параметрам модели в матричном виде:"
      ],
      "metadata": {
        "id": "J2XKYjJoPvVY"
      }
    },
    {
      "cell_type": "code",
      "source": [
        "for param in NN.parameters():\n",
        "  print('parameter shape: ', param.shape)"
      ],
      "metadata": {
        "id": "8hhx6CvKTRAZ",
        "colab": {
          "base_uri": "https://localhost:8080/"
        },
        "outputId": "70758e30-e293-4a06-8a9f-a12acf65eb5b"
      },
      "execution_count": null,
      "outputs": [
        {
          "output_type": "stream",
          "name": "stdout",
          "text": [
            "parameter shape:  torch.Size([5, 1])\n",
            "parameter shape:  torch.Size([5])\n",
            "parameter shape:  torch.Size([5, 5])\n",
            "parameter shape:  torch.Size([5])\n",
            "parameter shape:  torch.Size([1, 5])\n",
            "parameter shape:  torch.Size([1])\n"
          ]
        }
      ]
    },
    {
      "cell_type": "markdown",
      "source": [
        "## Перенос вычислений на видеокарту\n",
        "\n",
        "Использование графических ядер - обязательный атрибут работы с глубокими нейронными сетями. Графические ядра позволяют производить быстрые эффективные параллельные вычисления. В `Pytorch` реализован интерфейс переноса вычислений на видеокарту. Для осуществления этого переноса необходимо перенестина видеокарту как параметры модели, так и входные данные. Прежде всего нужно проверить, доступна ли видеокарта для вычислений. В google-colab для этого нужно в главном меню выбрать вкладку \"Среда выполнения\", там выбрать команду \"Сменить среду выполнения\", далее в качестве аппаратного ускорителя выбрать \"GPU\". После этого можно воспользоваться следующей командой для проверки доступности GPU:"
      ],
      "metadata": {
        "id": "DUg1ZTnMQd-g"
      }
    },
    {
      "cell_type": "code",
      "source": [
        "import torch\n",
        "torch.cuda.is_available()"
      ],
      "metadata": {
        "colab": {
          "base_uri": "https://localhost:8080/"
        },
        "id": "Lw9pJhC9QWh9",
        "outputId": "2162ffc1-a966-49c0-c92f-2fb88a3a9ddc"
      },
      "execution_count": null,
      "outputs": [
        {
          "output_type": "execute_result",
          "data": {
            "text/plain": [
              "False"
            ]
          },
          "metadata": {},
          "execution_count": 50
        }
      ]
    },
    {
      "cell_type": "code",
      "source": [
        "device = 'cuda' if torch.cuda.is_available() else 'cpu'"
      ],
      "metadata": {
        "id": "bT9uAxmYSM7g"
      },
      "execution_count": null,
      "outputs": []
    },
    {
      "cell_type": "markdown",
      "source": [
        "Теперь можем провести вычисления на GPU. Перенос тензоров и модулей на GPU производится при помощи функций `.to('gpu')`, либо `.cuda()`"
      ],
      "metadata": {
        "id": "3ExdTCNRRoyV"
      }
    },
    {
      "cell_type": "markdown",
      "source": [
        "**Замечание:** мы вынуждены продублировать определения основных функций, поскольку после подключения аппаратного ускорителя среда выполнения перезагружается"
      ],
      "metadata": {
        "id": "MCTQeOl8Sa6n"
      }
    },
    {
      "cell_type": "code",
      "source": [
        "import torch.nn as nn\n",
        "class Net(nn.Module):\n",
        "    def __init__(self, dim):\n",
        "        super(Net, self).__init__()\n",
        "        self.L1 = nn.Linear(dim, 5)\n",
        "        self.L2 = nn.Linear(5, 5)\n",
        "        self.L3 = nn.Linear(5, 1)\n",
        "        self.activation = nn.Tanh()\n",
        "\n",
        "    def forward(self, x):\n",
        "        x = self.L1(x)\n",
        "        x = self.activation(x)\n",
        "        x = self.L2(x)\n",
        "        x = self.activation(x)\n",
        "        x = self.L3(x)\n",
        "        return self.activation(x)"
      ],
      "metadata": {
        "id": "6tJkYqZrRmLw"
      },
      "execution_count": null,
      "outputs": []
    },
    {
      "cell_type": "code",
      "source": [
        "NN = Net(1)\n",
        "NN = NN.to(device) #для переноса на девайс"
      ],
      "metadata": {
        "id": "OfDjj4m7R6k8"
      },
      "execution_count": null,
      "outputs": []
    },
    {
      "cell_type": "code",
      "source": [
        "NN"
      ],
      "metadata": {
        "colab": {
          "base_uri": "https://localhost:8080/"
        },
        "id": "wkAWjGfmSGZe",
        "outputId": "f47a7238-3bf4-4139-d40f-7109461bdcb3"
      },
      "execution_count": null,
      "outputs": [
        {
          "output_type": "execute_result",
          "data": {
            "text/plain": [
              "Net(\n",
              "  (L1): Linear(in_features=1, out_features=5, bias=True)\n",
              "  (L2): Linear(in_features=5, out_features=5, bias=True)\n",
              "  (L3): Linear(in_features=5, out_features=1, bias=True)\n",
              "  (activation): Tanh()\n",
              ")"
            ]
          },
          "metadata": {},
          "execution_count": 54
        }
      ]
    },
    {
      "cell_type": "code",
      "source": [
        "import tqdm\n",
        "from tqdm.auto import tqdm\n",
        "def train(model, x, y, criterion, optimizer, num_epoch):\n",
        "    for t in tqdm(range(num_epoch)):\n",
        "      # Внещний цикл по числу эпох обучения\n",
        "        for i, X in enumerate(x):\n",
        "            # Внутренний цикл по всем объектам в обучающей выборке\n",
        "            # Вычислим предсказания нашей модели\n",
        "            y_pred = model(X)\n",
        "\n",
        "            # Посчитаем значение функции потерь  на полученном предсказании\n",
        "            loss = criterion(y_pred, y[i])\n",
        "\n",
        "            # Обнулим посчитанные ранее значения градиентов\n",
        "            optimizer.zero_grad()\n",
        "\n",
        "            # Выполним подсчёт новых градиентов\n",
        "            loss.backward()\n",
        "\n",
        "            # Выполним шаг градиентного спуска\n",
        "            optimizer.step()\n",
        "    return model"
      ],
      "metadata": {
        "id": "wYiWuZQ5STH6"
      },
      "execution_count": null,
      "outputs": []
    },
    {
      "cell_type": "code",
      "source": [
        "X = torch.normal(mean=torch.zeros((1000, 1)), std= 2)\n",
        "Y = torch.cos(X)"
      ],
      "metadata": {
        "id": "tf6e0Aa9SjvM"
      },
      "execution_count": null,
      "outputs": []
    },
    {
      "cell_type": "code",
      "source": [
        "X = X.to(device)\n",
        "Y = Y.to(device)"
      ],
      "metadata": {
        "id": "Cl_WPHIvSn3y"
      },
      "execution_count": null,
      "outputs": []
    },
    {
      "cell_type": "markdown",
      "source": [
        "Убедимся, что все тензоры на GPU"
      ],
      "metadata": {
        "id": "5grEvD88S6Xc"
      }
    },
    {
      "cell_type": "code",
      "source": [
        "X.device"
      ],
      "metadata": {
        "colab": {
          "base_uri": "https://localhost:8080/"
        },
        "id": "GTDWmYDoSt9q",
        "outputId": "610add00-1b57-4c81-f2ce-088ad5721804"
      },
      "execution_count": null,
      "outputs": [
        {
          "output_type": "execute_result",
          "data": {
            "text/plain": [
              "device(type='cuda', index=0)"
            ]
          },
          "metadata": {},
          "execution_count": 12
        }
      ]
    },
    {
      "cell_type": "code",
      "source": [
        "Y.device"
      ],
      "metadata": {
        "colab": {
          "base_uri": "https://localhost:8080/"
        },
        "id": "-i4APdHFS9YM",
        "outputId": "c18533d3-cd67-4f6d-9110-05193d1cc0d7"
      },
      "execution_count": null,
      "outputs": [
        {
          "output_type": "execute_result",
          "data": {
            "text/plain": [
              "device(type='cuda', index=0)"
            ]
          },
          "metadata": {},
          "execution_count": 14
        }
      ]
    },
    {
      "cell_type": "code",
      "source": [
        "for param in NN.parameters():\n",
        "  print('parameter device: ', param.device)"
      ],
      "metadata": {
        "colab": {
          "base_uri": "https://localhost:8080/"
        },
        "id": "rRTvwoUPSu2N",
        "outputId": "00ace4e2-27ec-40cb-b403-8fec2a755762"
      },
      "execution_count": null,
      "outputs": [
        {
          "output_type": "stream",
          "name": "stdout",
          "text": [
            "parameter device:  cuda:0\n",
            "parameter device:  cuda:0\n",
            "parameter device:  cuda:0\n",
            "parameter device:  cuda:0\n",
            "parameter device:  cuda:0\n",
            "parameter device:  cuda:0\n"
          ]
        }
      ]
    },
    {
      "cell_type": "markdown",
      "source": [
        "Обучим нейронную сеть на GPU"
      ],
      "metadata": {
        "id": "VjtconT-TD65"
      }
    },
    {
      "cell_type": "code",
      "source": [
        "criterion = torch.nn.MSELoss()\n",
        "optimizer = torch.optim.Adam(NN.parameters(), lr=1e-3)\n",
        "\n",
        "NN = train(NN, X, Y, criterion,optimizer, 50)"
      ],
      "metadata": {
        "colab": {
          "base_uri": "https://localhost:8080/",
          "height": 49,
          "referenced_widgets": [
            "8a1e73b621b941b2a49ad4cb520771a8",
            "071d7cd8d8b44002827fa97d85d89dfb",
            "f36ed96d60014c0988fe39e56f9f98b1",
            "b9870f20b6d547f396912e7e0c59c441",
            "2e96daede3524ac89ecb3bbe5966c1df",
            "8448666f598c4c24a4d2b902d6ac2244",
            "b7bd68d57660460cb1ca7d001ceaba67",
            "aa4feb9ef050412f9a2aa0160e835282",
            "1454869847ae4ea28254aaf48abf00d1",
            "f5749412a29247079bb71de537adb55d",
            "cc0bf4fde1ad420fa60c56715a534ad5"
          ]
        },
        "id": "doJ2fz5_S4JO",
        "outputId": "a7ec8f56-a11b-4a0d-99ab-024b41be5ea6"
      },
      "execution_count": null,
      "outputs": [
        {
          "output_type": "display_data",
          "data": {
            "text/plain": [
              "  0%|          | 0/50 [00:00<?, ?it/s]"
            ],
            "application/vnd.jupyter.widget-view+json": {
              "version_major": 2,
              "version_minor": 0,
              "model_id": "8a1e73b621b941b2a49ad4cb520771a8"
            }
          },
          "metadata": {}
        }
      ]
    },
    {
      "cell_type": "markdown",
      "source": [
        "Теперь к набору команд `.detach().numpy()` мы должны добавить еще одну команду - `.cpu()`"
      ],
      "metadata": {
        "id": "kIFmNeSqTgpG"
      }
    },
    {
      "cell_type": "code",
      "source": [
        "import seaborn as sns\n",
        "import matplotlib.pyplot as plt\n",
        "sns.set_theme()\n",
        "\n",
        "X_test = torch.linspace(-6, 6, 1000).to(device)\n",
        "Y_test = torch.cos(X_test)\n",
        "\n",
        "nn_prediction = NN(X_test.view(-1, 1))\n",
        "nn_prediction = nn_prediction.cpu().detach().numpy()\n",
        "\n",
        "plt.figure(figsize=(20,7))\n",
        "plt.scatter(x=X_test.cpu(), y=Y_test.cpu(), label='True Cosine');\n",
        "plt.scatter(x=X_test.cpu(), y=nn_prediction, label='NN predictions');\n",
        "plt.legend()"
      ],
      "metadata": {
        "colab": {
          "base_uri": "https://localhost:8080/",
          "height": 449
        },
        "id": "on5Rq9smTH2G",
        "outputId": "ff12ff41-2ef2-4fcb-c8e6-fb563107a07f"
      },
      "execution_count": null,
      "outputs": [
        {
          "output_type": "execute_result",
          "data": {
            "text/plain": [
              "<matplotlib.legend.Legend at 0x7f4fff704eb0>"
            ]
          },
          "metadata": {},
          "execution_count": 19
        },
        {
          "output_type": "display_data",
          "data": {
            "text/plain": [
              "<Figure size 1440x504 with 1 Axes>"
            ],
            "image/png": "[encoded data removed]"
          },
          "metadata": {}
        }
      ]
    },
    {
      "cell_type": "code",
      "source": [],
      "metadata": {
        "id": "2E_sgXtnT3L5"
      },
      "execution_count": null,
      "outputs": []
    }
  ]
}